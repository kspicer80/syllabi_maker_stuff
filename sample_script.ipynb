{
 "cells": [
  {
   "attachments": {},
   "cell_type": "markdown",
   "metadata": {},
   "source": [
    "# Jupyter Notebook for Further \"Automating Our Syllabus Updating\" Each Semester"
   ]
  },
  {
   "attachments": {},
   "cell_type": "markdown",
   "metadata": {},
   "source": [
    "### Introductory Stuff:"
   ]
  },
  {
   "cell_type": "code",
   "execution_count": 1,
   "metadata": {},
   "outputs": [],
   "source": [
    "from canvasapi import Canvas\n",
    "from datetime import datetime, timedelta\n",
    "import json\n",
    "import numpy as np\n",
    "import pandas as pd\n",
    "pd.set_option('display.max_rows', 500)\n",
    "pd.set_option('display.max_columns', 500)\n",
    "pd.set_option('display.max_colwidth', None)\n",
    "pd.set_option('display.width', 00)\n",
    "from pandas.io.clipboards import to_clipboard\n",
    "from tabulate import tabulate\n",
    "\n",
    "\n",
    "API_URL = # This is where your institution's Instructure address goes ...\n",
    "API_KEY = # Your key for accessing the Canvas API ...\n",
    "course_number = # Just as you would expect, this is the unique id for your Canvas course ...\n",
    "\n",
    "canvas = Canvas(API_URL, API_KEY)\n",
    "course = canvas.get_course(course_number)"
   ]
  },
  {
   "attachments": {},
   "cell_type": "markdown",
   "metadata": {},
   "source": [
    "### Getting the Data We Need for Altering the Links to Each Weekly Assignment:"
   ]
  },
  {
   "attachments": {},
   "cell_type": "markdown",
   "metadata": {},
   "source": [
    "One of the things I need to get are all the id numbers for each of the discussion post assignments for every week. Since I've got three sections and the assignments are specific for each section (i.e. all the Section D students respond only to the \"Section D\" discussion board each week), I need to get all those id numbers so that we can link to them properly in the final \"Reading Schedule\" table. The ```canvasapi``` library has a function for this: ```get_discussion_topics()``` (documentation is [here](https://canvasapi.readthedocs.io/en/stable/course-ref.html?highlight=get_discussion_topics#canvasapi.course.Course.get_discussion_topics).)"
   ]
  },
  {
   "cell_type": "code",
   "execution_count": 2,
   "metadata": {},
   "outputs": [
    {
     "name": "stdout",
     "output_type": "stream",
     "text": [
      "Week 0 Discussion Board Post (Section E) (3771490)\n",
      "Week 0 Discussion Board Post (Section F) (3771488)\n",
      "Week 1 Discussion Board Post (Section E) (3771486)\n",
      "Week 1 Discussion Board Post (Section F) (3771484)\n",
      "Week 2 Discussion Board Post (Section E) (3771482)\n",
      "Week 2 Discussion Board Post (Section F) (3771480)\n",
      "Week 3 Discussion Board Post (Section E) (3771478)\n",
      "Week 3 Discussion Board Post (Section F) (3771476)\n",
      "Week 4 Discussion Board Post (Section E) (3771474)\n",
      "Week 4 Discussion Board Post (Section F) (3771472)\n",
      "Week 5 Discussion Board Post (Section E) (3771470)\n",
      "Week 5 Discussion Board Post (Section F) (3771468)\n",
      "Week 6 Discussion Board Post (Section E) (3771466)\n",
      "Week 6 Discussion Board Post (Section F) (3771464)\n",
      "Week 7 Discussion Board Post (Section E) (3771462)\n",
      "Week 7 Discussion Board Post (Section F) (3771460)\n",
      "Week 8 Discussion Board Post (Section E) (3771458)\n",
      "Week 8 Discussion Board Post (Section F) (3771456)\n",
      "Week 10 Discussion Board Post (Section E) (3771454)\n",
      "Week 10 Discussion Board Post (Section F) (3771452)\n",
      "Week 11 Discussion Board Post (Section E) (3771450)\n",
      "Week 11 Discussion Board Post (Section F) (3771448)\n",
      "Week 12 Discussion Board Post (Section E) (3771446)\n",
      "Week 12 Discussion Board Post (Section F) (3771444)\n",
      "Week 13 Discussion Board Post (Section E) (3771442)\n",
      "Week 13 Discussion Board Post (Section F) (3771440)\n",
      "Week 14 Discussion Board Post (Section E) (3771438)\n",
      "Week 14 Discussion Board Post (Section F) (3771436)\n",
      "Week 15 Discussion Board Post (Section E) (3771434)\n",
      "Week 15 Discussion Board Post (Section F) (3771432)\n",
      "Week 1 Discussion Board Post (Section D) (3771430)\n",
      "Week 0 Discussion Board Post (Section D) (3771428)\n",
      "Week 2 Discussion Board Post (Section D) (3771426)\n",
      "Week 3 Discussion Board Post (Section D) (3771424)\n",
      "Week 4 Discussion Board Post (Section D) (3771422)\n",
      "Week 5 Discussion Board Post (Section D) (3771420)\n",
      "Week 6 Discussion Board Post (Section D) (3771418)\n",
      "Week 7 Discussion Board Post (Section D) (3771416)\n",
      "Week 8 Discussion Board Post (Section D) (3771414)\n",
      "Week 11 Discussion Board Post (Section D) (3771412)\n",
      "Week 12 Discussion Board Post (Section D) (3771410)\n",
      "Week 13 Discussion Board Post (Section D) (3771408)\n",
      "Week 14 Discussion Board Post (Section D) (3771406)\n",
      "Week 15 Discussion Board Post (Section D) (3771404)\n",
      "Week 10 Discussion Board Post (Section D) (3771402)\n",
      "45\n"
     ]
    }
   ],
   "source": [
    "discussion_topics = course.get_discussion_topics()\n",
    "dt_list = []\n",
    "for discussion in discussion_topics:\n",
    "    print(discussion)\n",
    "    dt_list.append(discussion)\n",
    "print(len(dt_list))\n"
   ]
  },
  {
   "attachments": {},
   "cell_type": "markdown",
   "metadata": {},
   "source": [
    "If you just append each of the discussions to the list and print the final list, you get all of the metadata for the post—I'm not taking a path here where I need all this information, so the output from the previous cell is all that I need. (A screenshot of the full ```DiscussionTopic``` object follows below.)"
   ]
  },
  {
   "attachments": {},
   "cell_type": "markdown",
   "metadata": {},
   "source": [
    "![full_dt_object_printout](discussion_topic_object.png)"
   ]
  },
  {
   "cell_type": "code",
   "execution_count": 3,
   "metadata": {},
   "outputs": [
    {
     "name": "stdout",
     "output_type": "stream",
     "text": [
      "['Week 0 Discussion Board Post (Section E) (3771490)', 'Week 0 Discussion Board Post (Section F) (3771488)', 'Week 1 Discussion Board Post (Section E) (3771486)', 'Week 1 Discussion Board Post (Section F) (3771484)', 'Week 2 Discussion Board Post (Section E) (3771482)', 'Week 2 Discussion Board Post (Section F) (3771480)', 'Week 3 Discussion Board Post (Section E) (3771478)', 'Week 3 Discussion Board Post (Section F) (3771476)', 'Week 4 Discussion Board Post (Section E) (3771474)', 'Week 4 Discussion Board Post (Section F) (3771472)', 'Week 5 Discussion Board Post (Section E) (3771470)', 'Week 5 Discussion Board Post (Section F) (3771468)', 'Week 6 Discussion Board Post (Section E) (3771466)', 'Week 6 Discussion Board Post (Section F) (3771464)', 'Week 7 Discussion Board Post (Section E) (3771462)', 'Week 7 Discussion Board Post (Section F) (3771460)', 'Week 8 Discussion Board Post (Section E) (3771458)', 'Week 8 Discussion Board Post (Section F) (3771456)', 'Week 10 Discussion Board Post (Section E) (3771454)', 'Week 10 Discussion Board Post (Section F) (3771452)', 'Week 11 Discussion Board Post (Section E) (3771450)', 'Week 11 Discussion Board Post (Section F) (3771448)', 'Week 12 Discussion Board Post (Section E) (3771446)', 'Week 12 Discussion Board Post (Section F) (3771444)', 'Week 13 Discussion Board Post (Section E) (3771442)', 'Week 13 Discussion Board Post (Section F) (3771440)', 'Week 14 Discussion Board Post (Section E) (3771438)', 'Week 14 Discussion Board Post (Section F) (3771436)', 'Week 15 Discussion Board Post (Section E) (3771434)', 'Week 15 Discussion Board Post (Section F) (3771432)', 'Week 1 Discussion Board Post (Section D) (3771430)', 'Week 0 Discussion Board Post (Section D) (3771428)', 'Week 2 Discussion Board Post (Section D) (3771426)', 'Week 3 Discussion Board Post (Section D) (3771424)', 'Week 4 Discussion Board Post (Section D) (3771422)', 'Week 5 Discussion Board Post (Section D) (3771420)', 'Week 6 Discussion Board Post (Section D) (3771418)', 'Week 7 Discussion Board Post (Section D) (3771416)', 'Week 8 Discussion Board Post (Section D) (3771414)', 'Week 11 Discussion Board Post (Section D) (3771412)', 'Week 12 Discussion Board Post (Section D) (3771410)', 'Week 13 Discussion Board Post (Section D) (3771408)', 'Week 14 Discussion Board Post (Section D) (3771406)', 'Week 15 Discussion Board Post (Section D) (3771404)', 'Week 10 Discussion Board Post (Section D) (3771402)']\n"
     ]
    }
   ],
   "source": [
    "string_list = []\n",
    "for item in dt_list:\n",
    "    string_list.append(str(item))\n",
    "print(string_list)"
   ]
  },
  {
   "attachments": {},
   "cell_type": "markdown",
   "metadata": {},
   "source": [
    "So, now I have all the assignment ids, which are the seven-digit numbers in the parentheses within every string. I also have the Week number for each post as well, which I will need for the weekly schedule, of course. So let's write a simple little function to pull out the week number for each post:"
   ]
  },
  {
   "cell_type": "code",
   "execution_count": 4,
   "metadata": {},
   "outputs": [
    {
     "data": {
      "text/plain": [
       "[['0'],\n",
       " ['0'],\n",
       " ['1'],\n",
       " ['1'],\n",
       " ['2'],\n",
       " ['2'],\n",
       " ['3'],\n",
       " ['3'],\n",
       " ['4'],\n",
       " ['4'],\n",
       " ['5'],\n",
       " ['5'],\n",
       " ['6'],\n",
       " ['6'],\n",
       " ['7'],\n",
       " ['7'],\n",
       " ['8'],\n",
       " ['8'],\n",
       " ['10'],\n",
       " ['10'],\n",
       " ['11'],\n",
       " ['11'],\n",
       " ['12'],\n",
       " ['12'],\n",
       " ['13'],\n",
       " ['13'],\n",
       " ['14'],\n",
       " ['14'],\n",
       " ['15'],\n",
       " ['15'],\n",
       " ['1'],\n",
       " ['0'],\n",
       " ['2'],\n",
       " ['3'],\n",
       " ['4'],\n",
       " ['5'],\n",
       " ['6'],\n",
       " ['7'],\n",
       " ['8'],\n",
       " ['11'],\n",
       " ['12'],\n",
       " ['13'],\n",
       " ['14'],\n",
       " ['15'],\n",
       " ['10']]"
      ]
     },
     "execution_count": 4,
     "metadata": {},
     "output_type": "execute_result"
    }
   ],
   "source": [
    "import re\n",
    "\n",
    "def extract_week_number(data):\n",
    "    data = str(data)\n",
    "    week_number_pattern = re.compile(r\"\\D([0-9]{1,2}\\b)\")\n",
    "    week_result = week_number_pattern.findall(data)\n",
    "    return week_result\n",
    "\n",
    "week_number_list = list(map(extract_week_number, string_list))\n",
    "week_number_list"
   ]
  },
  {
   "attachments": {},
   "cell_type": "markdown",
   "metadata": {},
   "source": [
    "I'm also going to want to pull out the section letter (D, E, or F) for each individual discussion topic:"
   ]
  },
  {
   "cell_type": "code",
   "execution_count": 5,
   "metadata": {},
   "outputs": [],
   "source": [
    "def extract_section_number(data):\n",
    "    data = str(data)\n",
    "    section_pattern = re.compile(r\"\\(\\D*\\)\")\n",
    "    section_result = section_pattern.findall(data)\n",
    "    return section_result\n",
    "\n",
    "section_list = list(map(extract_section_number, string_list))"
   ]
  },
  {
   "attachments": {},
   "cell_type": "markdown",
   "metadata": {},
   "source": [
    "Now I need the unique id for  each individual discussion topic:"
   ]
  },
  {
   "cell_type": "code",
   "execution_count": 6,
   "metadata": {},
   "outputs": [],
   "source": [
    "def extract_dt_id_pattern(data):\n",
    "    data = str(data)\n",
    "    dt_id_pattern = re.compile(r\"(\\d{7})\")\n",
    "    dt_id_result = dt_id_pattern.findall(data)\n",
    "    return dt_id_result\n",
    "\n",
    "dt_id_list = list(map(extract_dt_id_pattern, string_list))"
   ]
  },
  {
   "attachments": {},
   "cell_type": "markdown",
   "metadata": {},
   "source": [
    "Now I have all the information I need. I'm doing this the long way here, zipping together all three lists—one could skip the next cell and just pass everything into the dataframe."
   ]
  },
  {
   "cell_type": "code",
   "execution_count": 7,
   "metadata": {},
   "outputs": [
    {
     "data": {
      "text/plain": [
       "45"
      ]
     },
     "execution_count": 7,
     "metadata": {},
     "output_type": "execute_result"
    }
   ],
   "source": [
    "zipped = zip(week_number_list, section_list, dt_id_list)\n",
    "zipped_list = list(zipped)\n",
    "len(zipped_list)"
   ]
  },
  {
   "cell_type": "code",
   "execution_count": 8,
   "metadata": {},
   "outputs": [
    {
     "name": "stderr",
     "output_type": "stream",
     "text": [
      "/var/folders/0h/96f5xt0s59j0cyt_3yf1j_0w0000gn/T/ipykernel_3933/3600161840.py:7: FutureWarning: The default value of regex will change from True to False in a future version. In addition, single character regular expressions will *not* be treated as literal strings when regex=True.\n",
      "  df['section'] = df['section'].str.replace('(', '')\n",
      "/var/folders/0h/96f5xt0s59j0cyt_3yf1j_0w0000gn/T/ipykernel_3933/3600161840.py:8: FutureWarning: The default value of regex will change from True to False in a future version. In addition, single character regular expressions will *not* be treated as literal strings when regex=True.\n",
      "  df['section'] = df['section'].str.replace(')', '')\n"
     ]
    }
   ],
   "source": [
    "#df = pd.DataFrame(string_list)\n",
    "df = pd.DataFrame(zipped_list)\n",
    "df.columns = ['week', 'section', 'td_id']\n",
    "df = df.explode('week')\n",
    "df = df.explode('section')\n",
    "df = df.explode('td_id')\n",
    "df['section'] = df['section'].str.replace('(', '')\n",
    "df['section'] = df['section'].str.replace(')', '')\n",
    "df['week'] = df['week'].astype('int')"
   ]
  },
  {
   "attachments": {},
   "cell_type": "markdown",
   "metadata": {},
   "source": [
    "Once again, just for illustrative purposes here, I'm going the \"long way 'round,\" so to speak. "
   ]
  },
  {
   "cell_type": "code",
   "execution_count": 9,
   "metadata": {},
   "outputs": [
    {
     "data": {
      "text/html": [
       "<div>\n",
       "<style scoped>\n",
       "    .dataframe tbody tr th:only-of-type {\n",
       "        vertical-align: middle;\n",
       "    }\n",
       "\n",
       "    .dataframe tbody tr th {\n",
       "        vertical-align: top;\n",
       "    }\n",
       "\n",
       "    .dataframe thead th {\n",
       "        text-align: right;\n",
       "    }\n",
       "</style>\n",
       "<table border=\"1\" class=\"dataframe\">\n",
       "  <thead>\n",
       "    <tr style=\"text-align: right;\">\n",
       "      <th></th>\n",
       "      <th>week</th>\n",
       "      <th>section</th>\n",
       "      <th>td_id</th>\n",
       "    </tr>\n",
       "  </thead>\n",
       "  <tbody>\n",
       "    <tr>\n",
       "      <th>0</th>\n",
       "      <td>0</td>\n",
       "      <td>Section E, Section F, Section D</td>\n",
       "      <td>3771490, 3771488, 3771428</td>\n",
       "    </tr>\n",
       "    <tr>\n",
       "      <th>1</th>\n",
       "      <td>1</td>\n",
       "      <td>Section E, Section F, Section D</td>\n",
       "      <td>3771486, 3771484, 3771430</td>\n",
       "    </tr>\n",
       "    <tr>\n",
       "      <th>2</th>\n",
       "      <td>2</td>\n",
       "      <td>Section E, Section F, Section D</td>\n",
       "      <td>3771482, 3771480, 3771426</td>\n",
       "    </tr>\n",
       "    <tr>\n",
       "      <th>3</th>\n",
       "      <td>3</td>\n",
       "      <td>Section E, Section F, Section D</td>\n",
       "      <td>3771478, 3771476, 3771424</td>\n",
       "    </tr>\n",
       "    <tr>\n",
       "      <th>4</th>\n",
       "      <td>4</td>\n",
       "      <td>Section E, Section F, Section D</td>\n",
       "      <td>3771474, 3771472, 3771422</td>\n",
       "    </tr>\n",
       "    <tr>\n",
       "      <th>5</th>\n",
       "      <td>5</td>\n",
       "      <td>Section E, Section F, Section D</td>\n",
       "      <td>3771470, 3771468, 3771420</td>\n",
       "    </tr>\n",
       "    <tr>\n",
       "      <th>6</th>\n",
       "      <td>6</td>\n",
       "      <td>Section E, Section F, Section D</td>\n",
       "      <td>3771466, 3771464, 3771418</td>\n",
       "    </tr>\n",
       "    <tr>\n",
       "      <th>7</th>\n",
       "      <td>7</td>\n",
       "      <td>Section E, Section F, Section D</td>\n",
       "      <td>3771462, 3771460, 3771416</td>\n",
       "    </tr>\n",
       "    <tr>\n",
       "      <th>8</th>\n",
       "      <td>8</td>\n",
       "      <td>Section E, Section F, Section D</td>\n",
       "      <td>3771458, 3771456, 3771414</td>\n",
       "    </tr>\n",
       "    <tr>\n",
       "      <th>9</th>\n",
       "      <td>10</td>\n",
       "      <td>Section E, Section F, Section D</td>\n",
       "      <td>3771454, 3771452, 3771402</td>\n",
       "    </tr>\n",
       "    <tr>\n",
       "      <th>10</th>\n",
       "      <td>11</td>\n",
       "      <td>Section E, Section F, Section D</td>\n",
       "      <td>3771450, 3771448, 3771412</td>\n",
       "    </tr>\n",
       "    <tr>\n",
       "      <th>11</th>\n",
       "      <td>12</td>\n",
       "      <td>Section E, Section F, Section D</td>\n",
       "      <td>3771446, 3771444, 3771410</td>\n",
       "    </tr>\n",
       "    <tr>\n",
       "      <th>12</th>\n",
       "      <td>13</td>\n",
       "      <td>Section E, Section F, Section D</td>\n",
       "      <td>3771442, 3771440, 3771408</td>\n",
       "    </tr>\n",
       "    <tr>\n",
       "      <th>13</th>\n",
       "      <td>14</td>\n",
       "      <td>Section E, Section F, Section D</td>\n",
       "      <td>3771438, 3771436, 3771406</td>\n",
       "    </tr>\n",
       "    <tr>\n",
       "      <th>14</th>\n",
       "      <td>15</td>\n",
       "      <td>Section E, Section F, Section D</td>\n",
       "      <td>3771434, 3771432, 3771404</td>\n",
       "    </tr>\n",
       "  </tbody>\n",
       "</table>\n",
       "</div>"
      ],
      "text/plain": [
       "    week                          section                      td_id\n",
       "0      0  Section E, Section F, Section D  3771490, 3771488, 3771428\n",
       "1      1  Section E, Section F, Section D  3771486, 3771484, 3771430\n",
       "2      2  Section E, Section F, Section D  3771482, 3771480, 3771426\n",
       "3      3  Section E, Section F, Section D  3771478, 3771476, 3771424\n",
       "4      4  Section E, Section F, Section D  3771474, 3771472, 3771422\n",
       "5      5  Section E, Section F, Section D  3771470, 3771468, 3771420\n",
       "6      6  Section E, Section F, Section D  3771466, 3771464, 3771418\n",
       "7      7  Section E, Section F, Section D  3771462, 3771460, 3771416\n",
       "8      8  Section E, Section F, Section D  3771458, 3771456, 3771414\n",
       "9     10  Section E, Section F, Section D  3771454, 3771452, 3771402\n",
       "10    11  Section E, Section F, Section D  3771450, 3771448, 3771412\n",
       "11    12  Section E, Section F, Section D  3771446, 3771444, 3771410\n",
       "12    13  Section E, Section F, Section D  3771442, 3771440, 3771408\n",
       "13    14  Section E, Section F, Section D  3771438, 3771436, 3771406\n",
       "14    15  Section E, Section F, Section D  3771434, 3771432, 3771404"
      ]
     },
     "execution_count": 9,
     "metadata": {},
     "output_type": "execute_result"
    }
   ],
   "source": [
    "grouped = df.groupby(\"week\", as_index=False).agg({'section': ', '.join, 'td_id' : ', '.join})\n",
    "#grouped = grouped.reset_index(drop=True)\n",
    "grouped"
   ]
  },
  {
   "cell_type": "code",
   "execution_count": 10,
   "metadata": {},
   "outputs": [
    {
     "data": {
      "text/html": [
       "<div>\n",
       "<style scoped>\n",
       "    .dataframe tbody tr th:only-of-type {\n",
       "        vertical-align: middle;\n",
       "    }\n",
       "\n",
       "    .dataframe tbody tr th {\n",
       "        vertical-align: top;\n",
       "    }\n",
       "\n",
       "    .dataframe thead th {\n",
       "        text-align: right;\n",
       "    }\n",
       "</style>\n",
       "<table border=\"1\" class=\"dataframe\">\n",
       "  <thead>\n",
       "    <tr style=\"text-align: right;\">\n",
       "      <th></th>\n",
       "      <th>week</th>\n",
       "      <th>td_id_e</th>\n",
       "      <th>td_id_f</th>\n",
       "      <th>td_id_d</th>\n",
       "      <th>section_e</th>\n",
       "      <th>section_f</th>\n",
       "      <th>section_d</th>\n",
       "    </tr>\n",
       "  </thead>\n",
       "  <tbody>\n",
       "    <tr>\n",
       "      <th>0</th>\n",
       "      <td>0</td>\n",
       "      <td>3771490</td>\n",
       "      <td>3771488</td>\n",
       "      <td>3771428</td>\n",
       "      <td>Section E</td>\n",
       "      <td>Section F</td>\n",
       "      <td>Section D</td>\n",
       "    </tr>\n",
       "    <tr>\n",
       "      <th>1</th>\n",
       "      <td>1</td>\n",
       "      <td>3771486</td>\n",
       "      <td>3771484</td>\n",
       "      <td>3771430</td>\n",
       "      <td>Section E</td>\n",
       "      <td>Section F</td>\n",
       "      <td>Section D</td>\n",
       "    </tr>\n",
       "    <tr>\n",
       "      <th>2</th>\n",
       "      <td>2</td>\n",
       "      <td>3771482</td>\n",
       "      <td>3771480</td>\n",
       "      <td>3771426</td>\n",
       "      <td>Section E</td>\n",
       "      <td>Section F</td>\n",
       "      <td>Section D</td>\n",
       "    </tr>\n",
       "    <tr>\n",
       "      <th>3</th>\n",
       "      <td>3</td>\n",
       "      <td>3771478</td>\n",
       "      <td>3771476</td>\n",
       "      <td>3771424</td>\n",
       "      <td>Section E</td>\n",
       "      <td>Section F</td>\n",
       "      <td>Section D</td>\n",
       "    </tr>\n",
       "    <tr>\n",
       "      <th>4</th>\n",
       "      <td>4</td>\n",
       "      <td>3771474</td>\n",
       "      <td>3771472</td>\n",
       "      <td>3771422</td>\n",
       "      <td>Section E</td>\n",
       "      <td>Section F</td>\n",
       "      <td>Section D</td>\n",
       "    </tr>\n",
       "  </tbody>\n",
       "</table>\n",
       "</div>"
      ],
      "text/plain": [
       "   week  td_id_e   td_id_f   td_id_d  section_e   section_f   section_d\n",
       "0     0  3771490   3771488   3771428  Section E   Section F   Section D\n",
       "1     1  3771486   3771484   3771430  Section E   Section F   Section D\n",
       "2     2  3771482   3771480   3771426  Section E   Section F   Section D\n",
       "3     3  3771478   3771476   3771424  Section E   Section F   Section D\n",
       "4     4  3771474   3771472   3771422  Section E   Section F   Section D"
      ]
     },
     "execution_count": 10,
     "metadata": {},
     "output_type": "execute_result"
    }
   ],
   "source": [
    "for index, row in grouped.iterrows():\n",
    "    td_id_string_to_split = row['td_id']\n",
    "    td_id_split_string = td_id_string_to_split.split(',')\n",
    "    item_e = td_id_split_string[0]\n",
    "    item_f = td_id_split_string[1]\n",
    "    item_d = td_id_split_string[2]\n",
    "    grouped.loc[index, \"td_id_e\"] = item_e\n",
    "    grouped.loc[index, \"td_id_f\"] = item_f\n",
    "    grouped.loc[index, \"td_id_d\"] = item_d\n",
    "\n",
    "    section_string_to_split = row['section']\n",
    "    section_split_string = section_string_to_split.split(',')\n",
    "    item_se = section_split_string[0]\n",
    "    item_sf = section_split_string[1]\n",
    "    item_sd = section_split_string[2]\n",
    "    grouped.loc[index, \"section_e\"] = item_se\n",
    "    grouped.loc[index, \"section_f\"] = item_sf\n",
    "    grouped.loc[index, \"section_d\"] = item_sd\n",
    "   \n",
    "grouped.drop(['section', 'td_id'], axis=1, inplace=True)\n",
    "grouped.head()"
   ]
  },
  {
   "cell_type": "code",
   "execution_count": 11,
   "metadata": {},
   "outputs": [],
   "source": [
    "grouped.drop(['section_d', 'section_e', 'section_f'], axis=1, inplace=True)\n",
    "#grouped.set_index('week')\n",
    "grouped['td_id_d'] = grouped['td_id_d'].str.strip()\n",
    "grouped['td_id_f'] = grouped['td_id_f'].str.strip()"
   ]
  },
  {
   "attachments": {},
   "cell_type": "markdown",
   "metadata": {},
   "source": [
    "Now I want to take all this information wrangled together in the way I want it and then use that information to create the cell in the final column of the reading table with the correct links to the right discussion board assignment for each week, for each section:"
   ]
  },
  {
   "cell_type": "code",
   "execution_count": 12,
   "metadata": {},
   "outputs": [],
   "source": [
    "for index, row in grouped.iterrows():\n",
    "    section_d_hyperlink = f\"https://stfrancis.instructure.com/courses/1174984/discussion_topics/{row['td_id_d']}\"\n",
    "    section_e_hyperlink = f\"https://stfrancis.instructure.com/courses/1174984/discussion_topics/{row['td_id_e']}\"\n",
    "    section_f_hyperlink = f\"https://stfrancis.instructure.com/courses/1174984/discussion_topics/{row['td_id_f']}\"\n",
    "    grouped.loc[index, \"Reading Assignment Linked\"] = f\"Week {row['week']} Discussion Board Post—[Section D]({section_d_hyperlink}), [Section E]({section_e_hyperlink}), [Section F]({section_f_hyperlink})\"\n",
    "\n",
    "grouped = grouped.set_index('week')\n",
    "#print(grouped)\n",
    "\n",
    "# Just a place to keep this data we've now gotten wrangled all together\n",
    "grouped.to_json('one_more_test.json', orient='index')"
   ]
  },
  {
   "attachments": {},
   "cell_type": "markdown",
   "metadata": {},
   "source": [
    "Here we want to do a little \"sanity check\" to see that things are looking the way we want them to once we output everything into the Markdown table using [```pandas.DataFrame.to_markdown()```](https://pandas.pydata.org/docs/reference/api/pandas.DataFrame.to_markdown.html):"
   ]
  },
  {
   "cell_type": "code",
   "execution_count": 13,
   "metadata": {},
   "outputs": [
    {
     "name": "stdout",
     "output_type": "stream",
     "text": [
      "|   week |   td_id_e |   td_id_f |   td_id_d | Reading Assignment Linked                                                                                                                                                                                                                                                                                  |\n",
      "|--------|-----------|-----------|-----------|------------------------------------------------------------------------------------------------------------------------------------------------------------------------------------------------------------------------------------------------------------------------------------------------------------|\n",
      "|      0 |   3771490 |   3771488 |   3771428 | Week 0 Discussion Board Post—[Section D](https://stfrancis.instructure.com/courses/1174984/discussion_topics/3771428), [Section E](https://stfrancis.instructure.com/courses/1174984/discussion_topics/3771490), [Section F](https://stfrancis.instructure.com/courses/1174984/discussion_topics/3771488)  |\n",
      "|      1 |   3771486 |   3771484 |   3771430 | Week 1 Discussion Board Post—[Section D](https://stfrancis.instructure.com/courses/1174984/discussion_topics/3771430), [Section E](https://stfrancis.instructure.com/courses/1174984/discussion_topics/3771486), [Section F](https://stfrancis.instructure.com/courses/1174984/discussion_topics/3771484)  |\n",
      "|      2 |   3771482 |   3771480 |   3771426 | Week 2 Discussion Board Post—[Section D](https://stfrancis.instructure.com/courses/1174984/discussion_topics/3771426), [Section E](https://stfrancis.instructure.com/courses/1174984/discussion_topics/3771482), [Section F](https://stfrancis.instructure.com/courses/1174984/discussion_topics/3771480)  |\n",
      "|      3 |   3771478 |   3771476 |   3771424 | Week 3 Discussion Board Post—[Section D](https://stfrancis.instructure.com/courses/1174984/discussion_topics/3771424), [Section E](https://stfrancis.instructure.com/courses/1174984/discussion_topics/3771478), [Section F](https://stfrancis.instructure.com/courses/1174984/discussion_topics/3771476)  |\n",
      "|      4 |   3771474 |   3771472 |   3771422 | Week 4 Discussion Board Post—[Section D](https://stfrancis.instructure.com/courses/1174984/discussion_topics/3771422), [Section E](https://stfrancis.instructure.com/courses/1174984/discussion_topics/3771474), [Section F](https://stfrancis.instructure.com/courses/1174984/discussion_topics/3771472)  |\n",
      "|      5 |   3771470 |   3771468 |   3771420 | Week 5 Discussion Board Post—[Section D](https://stfrancis.instructure.com/courses/1174984/discussion_topics/3771420), [Section E](https://stfrancis.instructure.com/courses/1174984/discussion_topics/3771470), [Section F](https://stfrancis.instructure.com/courses/1174984/discussion_topics/3771468)  |\n",
      "|      6 |   3771466 |   3771464 |   3771418 | Week 6 Discussion Board Post—[Section D](https://stfrancis.instructure.com/courses/1174984/discussion_topics/3771418), [Section E](https://stfrancis.instructure.com/courses/1174984/discussion_topics/3771466), [Section F](https://stfrancis.instructure.com/courses/1174984/discussion_topics/3771464)  |\n",
      "|      7 |   3771462 |   3771460 |   3771416 | Week 7 Discussion Board Post—[Section D](https://stfrancis.instructure.com/courses/1174984/discussion_topics/3771416), [Section E](https://stfrancis.instructure.com/courses/1174984/discussion_topics/3771462), [Section F](https://stfrancis.instructure.com/courses/1174984/discussion_topics/3771460)  |\n",
      "|      8 |   3771458 |   3771456 |   3771414 | Week 8 Discussion Board Post—[Section D](https://stfrancis.instructure.com/courses/1174984/discussion_topics/3771414), [Section E](https://stfrancis.instructure.com/courses/1174984/discussion_topics/3771458), [Section F](https://stfrancis.instructure.com/courses/1174984/discussion_topics/3771456)  |\n",
      "|     10 |   3771454 |   3771452 |   3771402 | Week 10 Discussion Board Post—[Section D](https://stfrancis.instructure.com/courses/1174984/discussion_topics/3771402), [Section E](https://stfrancis.instructure.com/courses/1174984/discussion_topics/3771454), [Section F](https://stfrancis.instructure.com/courses/1174984/discussion_topics/3771452) |\n",
      "|     11 |   3771450 |   3771448 |   3771412 | Week 11 Discussion Board Post—[Section D](https://stfrancis.instructure.com/courses/1174984/discussion_topics/3771412), [Section E](https://stfrancis.instructure.com/courses/1174984/discussion_topics/3771450), [Section F](https://stfrancis.instructure.com/courses/1174984/discussion_topics/3771448) |\n",
      "|     12 |   3771446 |   3771444 |   3771410 | Week 12 Discussion Board Post—[Section D](https://stfrancis.instructure.com/courses/1174984/discussion_topics/3771410), [Section E](https://stfrancis.instructure.com/courses/1174984/discussion_topics/3771446), [Section F](https://stfrancis.instructure.com/courses/1174984/discussion_topics/3771444) |\n",
      "|     13 |   3771442 |   3771440 |   3771408 | Week 13 Discussion Board Post—[Section D](https://stfrancis.instructure.com/courses/1174984/discussion_topics/3771408), [Section E](https://stfrancis.instructure.com/courses/1174984/discussion_topics/3771442), [Section F](https://stfrancis.instructure.com/courses/1174984/discussion_topics/3771440) |\n",
      "|     14 |   3771438 |   3771436 |   3771406 | Week 14 Discussion Board Post—[Section D](https://stfrancis.instructure.com/courses/1174984/discussion_topics/3771406), [Section E](https://stfrancis.instructure.com/courses/1174984/discussion_topics/3771438), [Section F](https://stfrancis.instructure.com/courses/1174984/discussion_topics/3771436) |\n",
      "|     15 |   3771434 |   3771432 |   3771404 | Week 15 Discussion Board Post—[Section D](https://stfrancis.instructure.com/courses/1174984/discussion_topics/3771404), [Section E](https://stfrancis.instructure.com/courses/1174984/discussion_topics/3771434), [Section F](https://stfrancis.instructure.com/courses/1174984/discussion_topics/3771432) |\n"
     ]
    }
   ],
   "source": [
    "print(grouped.to_markdown(tablefmt=\"github\"))"
   ]
  },
  {
   "attachments": {},
   "cell_type": "markdown",
   "metadata": {},
   "source": [
    "Looking good!"
   ]
  },
  {
   "attachments": {},
   "cell_type": "markdown",
   "metadata": {},
   "source": [
    "### Code to Alter the Dates in the Reading Schedule:"
   ]
  },
  {
   "cell_type": "code",
   "execution_count": 14,
   "metadata": {},
   "outputs": [],
   "source": [
    "week_list = [i for i in range(1, 18) for j in range(4)]"
   ]
  },
  {
   "cell_type": "code",
   "execution_count": 15,
   "metadata": {},
   "outputs": [
    {
     "name": "stdout",
     "output_type": "stream",
     "text": [
      "68\n",
      "67\n"
     ]
    }
   ],
   "source": [
    "start_date = datetime(2023, 1, 9)  # Start date\n",
    "end_date = datetime(2023, 5, 5)    # End date\n",
    "\n",
    "# Create a list of dates between the start and end dates\n",
    "dates = []\n",
    "while start_date <= end_date:\n",
    "    # If the day of the week is Monday, Wednesday, Friday, or Sunday, append it to the list\n",
    "    if start_date.weekday() in [0, 2, 4, 6]:\n",
    "        dates.append(start_date.strftime('%A, %B %d'))\n",
    "    start_date += timedelta(days=1)\n",
    "print(len(week_list))\n",
    "print(len(dates))"
   ]
  },
  {
   "cell_type": "code",
   "execution_count": 16,
   "metadata": {},
   "outputs": [
    {
     "name": "stdout",
     "output_type": "stream",
     "text": [
      "67\n",
      "67\n"
     ]
    }
   ],
   "source": [
    "# We're removing the last item in the week_list because that week doesn't have a Sunday meeting time\n",
    "week_list.pop()\n",
    "\n",
    "# Sanity Check Once More!\n",
    "print(len(week_list))\n",
    "print(len(dates))"
   ]
  },
  {
   "attachments": {},
   "cell_type": "markdown",
   "metadata": {},
   "source": [
    "Here I'm reading in the ```.csv``` file that contains all of the reading for each day of the week:"
   ]
  },
  {
   "cell_type": "code",
   "execution_count": 17,
   "metadata": {},
   "outputs": [],
   "source": [
    "table_df = pd.read_csv('course_schedule.csv', encoding='utf-8')\n",
    "reading_assignments = table_df[\"Reading Assignment\"].values.tolist()\n",
    "assignments = table_df[\"Assignment\"].values.tolist()"
   ]
  },
  {
   "cell_type": "code",
   "execution_count": 18,
   "metadata": {},
   "outputs": [
    {
     "data": {
      "text/plain": [
       "{'td_id_e': '3771490',\n",
       " 'td_id_f': '3771488',\n",
       " 'td_id_d': '3771428',\n",
       " 'Reading Assignment Linked': 'Week 0 Discussion Board Post—[Section D](https://stfrancis.instructure.com/courses/1174984/discussion_topics/3771428), [Section E](https://stfrancis.instructure.com/courses/1174984/discussion_topics/3771490), [Section F](https://stfrancis.instructure.com/courses/1174984/discussion_topics/3771488)'}"
      ]
     },
     "execution_count": 18,
     "metadata": {},
     "output_type": "execute_result"
    }
   ],
   "source": [
    "# Opening JSON file\n",
    "with open('one_more_test.json') as json_file:\n",
    "    data = json.load(json_file)\n",
    "\n",
    "data[\"0\"]"
   ]
  },
  {
   "cell_type": "code",
   "execution_count": 19,
   "metadata": {},
   "outputs": [
    {
     "data": {
      "text/html": [
       "<div>\n",
       "<style scoped>\n",
       "    .dataframe tbody tr th:only-of-type {\n",
       "        vertical-align: middle;\n",
       "    }\n",
       "\n",
       "    .dataframe tbody tr th {\n",
       "        vertical-align: top;\n",
       "    }\n",
       "\n",
       "    .dataframe thead th {\n",
       "        text-align: right;\n",
       "    }\n",
       "</style>\n",
       "<table border=\"1\" class=\"dataframe\">\n",
       "  <thead>\n",
       "    <tr style=\"text-align: right;\">\n",
       "      <th></th>\n",
       "      <th>Week</th>\n",
       "      <th>Day/Date</th>\n",
       "      <th>Reading Assignment</th>\n",
       "      <th>Assignment</th>\n",
       "      <th>Reading Assignment Linked</th>\n",
       "    </tr>\n",
       "  </thead>\n",
       "  <tbody>\n",
       "    <tr>\n",
       "      <th>0</th>\n",
       "      <td>1</td>\n",
       "      <td>Monday, January 09</td>\n",
       "      <td>Read Michael Moorcock's \"Foreweird\" (in _WC_) and the \"Introduction,\" by the VanderMeers (_WC_).</td>\n",
       "      <td></td>\n",
       "      <td>Week 0 Discussion Board Post—[Section D](https://stfrancis.instructure.com/courses/1174984/discussion_topics/3771428), [Section E](https://stfrancis.instructure.com/courses/1174984/discussion_topics/3771490), [Section F](https://stfrancis.instructure.com/courses/1174984/discussion_topics/3771488)</td>\n",
       "    </tr>\n",
       "    <tr>\n",
       "      <th>1</th>\n",
       "      <td>1</td>\n",
       "      <td>Wednesday, January 11</td>\n",
       "      <td>Choose one of the following readings that will give us some theoretical terms and terminology to use going forward: 1.) \"Section I: Introduction\" of H. P. Lovecraft's essay, \"Supernatural Horror in Literature\" available [here](https://www.hplovecraft.com/writings/texts/essays/shil.aspx) and his \"Notes on Writing Weird Fiction\" [here](https://learn.stfrancis.edu/api/v1/courses/1174984/files/62481303); 2.) Sigmund Freud's essay, \"The Uncanny\" available [here](https://learn.stfrancis.edu/api/v1/courses/1174984/files/62481313) and Chapter 2, \"Psychoanalytic Criticism,\" in Lois Tyson's _Critical Theory Today: A User-Friendly Guide_ available [here](https://learn.stfrancis.edu/api/v1/courses/1174984/files/62481281); 3.) Mark Fisher's _The Weird and the Eerie_ [here](https://learn.stfrancis.edu/api/v1/courses/1174984/files/62481319).</td>\n",
       "      <td>Week 0 Discussion Board Post (Section D, Section E, Section F)</td>\n",
       "      <td>Week 1 Discussion Board Post—[Section D](https://stfrancis.instructure.com/courses/1174984/discussion_topics/3771430), [Section E](https://stfrancis.instructure.com/courses/1174984/discussion_topics/3771486), [Section F](https://stfrancis.instructure.com/courses/1174984/discussion_topics/3771484)</td>\n",
       "    </tr>\n",
       "    <tr>\n",
       "      <th>2</th>\n",
       "      <td>1</td>\n",
       "      <td>Friday, January 13</td>\n",
       "      <td>Choose another one of the texts listed above for Wednesday and have a quick read-through.</td>\n",
       "      <td></td>\n",
       "      <td>Week 2 Discussion Board Post—[Section D](https://stfrancis.instructure.com/courses/1174984/discussion_topics/3771426), [Section E](https://stfrancis.instructure.com/courses/1174984/discussion_topics/3771482), [Section F](https://stfrancis.instructure.com/courses/1174984/discussion_topics/3771480)</td>\n",
       "    </tr>\n",
       "    <tr>\n",
       "      <th>3</th>\n",
       "      <td>1</td>\n",
       "      <td>Sunday, January 15</td>\n",
       "      <td></td>\n",
       "      <td>Week 1 Discussion Board Post (Section D, Section E, Section F)</td>\n",
       "      <td>Week 3 Discussion Board Post—[Section D](https://stfrancis.instructure.com/courses/1174984/discussion_topics/3771424), [Section E](https://stfrancis.instructure.com/courses/1174984/discussion_topics/3771478), [Section F](https://stfrancis.instructure.com/courses/1174984/discussion_topics/3771476)</td>\n",
       "    </tr>\n",
       "    <tr>\n",
       "      <th>4</th>\n",
       "      <td>2</td>\n",
       "      <td>Monday, January 16</td>\n",
       "      <td>Read Kubin, Blackwood, Saki, James, &amp; Dunsany (_WC_, pp. 1-70)—for those interested in a graphic novel version of Saki's story, see Laura Neato's seven-page version [here](https://www.deviantart.com/lauraneato/art/Sredni-Vashtar-COVER-52751877).</td>\n",
       "      <td></td>\n",
       "      <td>Week 4 Discussion Board Post—[Section D](https://stfrancis.instructure.com/courses/1174984/discussion_topics/3771422), [Section E](https://stfrancis.instructure.com/courses/1174984/discussion_topics/3771474), [Section F](https://stfrancis.instructure.com/courses/1174984/discussion_topics/3771472)</td>\n",
       "    </tr>\n",
       "  </tbody>\n",
       "</table>\n",
       "</div>"
      ],
      "text/plain": [
       "   Week               Day/Date  \\\n",
       "0     1     Monday, January 09   \n",
       "1     1  Wednesday, January 11   \n",
       "2     1     Friday, January 13   \n",
       "3     1     Sunday, January 15   \n",
       "4     2     Monday, January 16   \n",
       "\n",
       "                                                                                                                                                                                                                                                                                                                                                                                                                                                                                                                                                                                                                                                                                                                                                                                                                                                       Reading Assignment  \\\n",
       "0                                                                                                                                                                                                                                                                                                                                                                                                                                                                                                                                                                                                                                                                                                                                                                        Read Michael Moorcock's \"Foreweird\" (in _WC_) and the \"Introduction,\" by the VanderMeers (_WC_).   \n",
       "1  Choose one of the following readings that will give us some theoretical terms and terminology to use going forward: 1.) \"Section I: Introduction\" of H. P. Lovecraft's essay, \"Supernatural Horror in Literature\" available [here](https://www.hplovecraft.com/writings/texts/essays/shil.aspx) and his \"Notes on Writing Weird Fiction\" [here](https://learn.stfrancis.edu/api/v1/courses/1174984/files/62481303); 2.) Sigmund Freud's essay, \"The Uncanny\" available [here](https://learn.stfrancis.edu/api/v1/courses/1174984/files/62481313) and Chapter 2, \"Psychoanalytic Criticism,\" in Lois Tyson's _Critical Theory Today: A User-Friendly Guide_ available [here](https://learn.stfrancis.edu/api/v1/courses/1174984/files/62481281); 3.) Mark Fisher's _The Weird and the Eerie_ [here](https://learn.stfrancis.edu/api/v1/courses/1174984/files/62481319).   \n",
       "2                                                                                                                                                                                                                                                                                                                                                                                                                                                                                                                                                                                                                                                                                                                                                                               Choose another one of the texts listed above for Wednesday and have a quick read-through.   \n",
       "3                                                                                                                                                                                                                                                                                                                                                                                                                                                                                                                                                                                                                                                                                                                                                                                                                                                                           \n",
       "4                                                                                                                                                                                                                                                                                                                                                                                                                                                                                                                                                                                                                   Read Kubin, Blackwood, Saki, James, & Dunsany (_WC_, pp. 1-70)—for those interested in a graphic novel version of Saki's story, see Laura Neato's seven-page version [here](https://www.deviantart.com/lauraneato/art/Sredni-Vashtar-COVER-52751877).   \n",
       "\n",
       "                                                       Assignment  \\\n",
       "0                                                                   \n",
       "1  Week 0 Discussion Board Post (Section D, Section E, Section F)   \n",
       "2                                                                   \n",
       "3  Week 1 Discussion Board Post (Section D, Section E, Section F)   \n",
       "4                                                                   \n",
       "\n",
       "                                                                                                                                                                                                                                                                                   Reading Assignment Linked  \n",
       "0  Week 0 Discussion Board Post—[Section D](https://stfrancis.instructure.com/courses/1174984/discussion_topics/3771428), [Section E](https://stfrancis.instructure.com/courses/1174984/discussion_topics/3771490), [Section F](https://stfrancis.instructure.com/courses/1174984/discussion_topics/3771488)  \n",
       "1  Week 1 Discussion Board Post—[Section D](https://stfrancis.instructure.com/courses/1174984/discussion_topics/3771430), [Section E](https://stfrancis.instructure.com/courses/1174984/discussion_topics/3771486), [Section F](https://stfrancis.instructure.com/courses/1174984/discussion_topics/3771484)  \n",
       "2  Week 2 Discussion Board Post—[Section D](https://stfrancis.instructure.com/courses/1174984/discussion_topics/3771426), [Section E](https://stfrancis.instructure.com/courses/1174984/discussion_topics/3771482), [Section F](https://stfrancis.instructure.com/courses/1174984/discussion_topics/3771480)  \n",
       "3  Week 3 Discussion Board Post—[Section D](https://stfrancis.instructure.com/courses/1174984/discussion_topics/3771424), [Section E](https://stfrancis.instructure.com/courses/1174984/discussion_topics/3771478), [Section F](https://stfrancis.instructure.com/courses/1174984/discussion_topics/3771476)  \n",
       "4  Week 4 Discussion Board Post—[Section D](https://stfrancis.instructure.com/courses/1174984/discussion_topics/3771422), [Section E](https://stfrancis.instructure.com/courses/1174984/discussion_topics/3771474), [Section F](https://stfrancis.instructure.com/courses/1174984/discussion_topics/3771472)  "
      ]
     },
     "execution_count": 19,
     "metadata": {},
     "output_type": "execute_result"
    }
   ],
   "source": [
    "schedule_data = {\n",
    "    'Week': week_list,\n",
    "    'Day/Date': dates,\n",
    "    'Reading Assignment': reading_assignments,\n",
    "    'Assignment': assignments\n",
    "}\n",
    "\n",
    "df_1 = pd.DataFrame(schedule_data)\n",
    "df_1 = df_1.replace(np.nan, '', regex=True)\n",
    "extracted_column = grouped[\"Reading Assignment Linked\"]\n",
    "df_2 = df_1.join(extracted_column)\n",
    "df_2.head()"
   ]
  },
  {
   "cell_type": "code",
   "execution_count": 20,
   "metadata": {},
   "outputs": [
    {
     "data": {
      "text/html": [
       "<div>\n",
       "<style scoped>\n",
       "    .dataframe tbody tr th:only-of-type {\n",
       "        vertical-align: middle;\n",
       "    }\n",
       "\n",
       "    .dataframe tbody tr th {\n",
       "        vertical-align: top;\n",
       "    }\n",
       "\n",
       "    .dataframe thead th {\n",
       "        text-align: right;\n",
       "    }\n",
       "</style>\n",
       "<table border=\"1\" class=\"dataframe\">\n",
       "  <thead>\n",
       "    <tr style=\"text-align: right;\">\n",
       "      <th></th>\n",
       "      <th>Week</th>\n",
       "      <th>Day/Date</th>\n",
       "      <th>Reading Assignment</th>\n",
       "      <th>Assignment</th>\n",
       "    </tr>\n",
       "  </thead>\n",
       "  <tbody>\n",
       "    <tr>\n",
       "      <th>0</th>\n",
       "      <td>1</td>\n",
       "      <td>Monday, January 09</td>\n",
       "      <td>Read Michael Moorcock's \"Foreweird\" (in _WC_) and the \"Introduction,\" by the VanderMeers (_WC_).</td>\n",
       "      <td></td>\n",
       "    </tr>\n",
       "    <tr>\n",
       "      <th>1</th>\n",
       "      <td>0</td>\n",
       "      <td>Wednesday, January 11</td>\n",
       "      <td>Choose one of the following readings that will give us some theoretical terms and terminology to use going forward: 1.) \"Section I: Introduction\" of H. P. Lovecraft's essay, \"Supernatural Horror in Literature\" available [here](https://www.hplovecraft.com/writings/texts/essays/shil.aspx) and his \"Notes on Writing Weird Fiction\" [here](https://learn.stfrancis.edu/api/v1/courses/1174984/files/62481303); 2.) Sigmund Freud's essay, \"The Uncanny\" available [here](https://learn.stfrancis.edu/api/v1/courses/1174984/files/62481313) and Chapter 2, \"Psychoanalytic Criticism,\" in Lois Tyson's _Critical Theory Today: A User-Friendly Guide_ available [here](https://learn.stfrancis.edu/api/v1/courses/1174984/files/62481281); 3.) Mark Fisher's _The Weird and the Eerie_ [here](https://learn.stfrancis.edu/api/v1/courses/1174984/files/62481319).</td>\n",
       "      <td>Week 0 Discussion Board Post (Section D, Section E, Section F)</td>\n",
       "    </tr>\n",
       "    <tr>\n",
       "      <th>2</th>\n",
       "      <td>1</td>\n",
       "      <td>Friday, January 13</td>\n",
       "      <td>Choose another one of the texts listed above for Wednesday and have a quick read-through.</td>\n",
       "      <td></td>\n",
       "    </tr>\n",
       "    <tr>\n",
       "      <th>3</th>\n",
       "      <td>1</td>\n",
       "      <td>Sunday, January 15</td>\n",
       "      <td></td>\n",
       "      <td>Week 1 Discussion Board Post (Section D, Section E, Section F)</td>\n",
       "    </tr>\n",
       "    <tr>\n",
       "      <th>4</th>\n",
       "      <td>2</td>\n",
       "      <td>Monday, January 16</td>\n",
       "      <td>Read Kubin, Blackwood, Saki, James, &amp; Dunsany (_WC_, pp. 1-70)—for those interested in a graphic novel version of Saki's story, see Laura Neato's seven-page version [here](https://www.deviantart.com/lauraneato/art/Sredni-Vashtar-COVER-52751877).</td>\n",
       "      <td></td>\n",
       "    </tr>\n",
       "  </tbody>\n",
       "</table>\n",
       "</div>"
      ],
      "text/plain": [
       "   Week               Day/Date  \\\n",
       "0     1     Monday, January 09   \n",
       "1     0  Wednesday, January 11   \n",
       "2     1     Friday, January 13   \n",
       "3     1     Sunday, January 15   \n",
       "4     2     Monday, January 16   \n",
       "\n",
       "                                                                                                                                                                                                                                                                                                                                                                                                                                                                                                                                                                                                                                                                                                                                                                                                                                                       Reading Assignment  \\\n",
       "0                                                                                                                                                                                                                                                                                                                                                                                                                                                                                                                                                                                                                                                                                                                                                                        Read Michael Moorcock's \"Foreweird\" (in _WC_) and the \"Introduction,\" by the VanderMeers (_WC_).   \n",
       "1  Choose one of the following readings that will give us some theoretical terms and terminology to use going forward: 1.) \"Section I: Introduction\" of H. P. Lovecraft's essay, \"Supernatural Horror in Literature\" available [here](https://www.hplovecraft.com/writings/texts/essays/shil.aspx) and his \"Notes on Writing Weird Fiction\" [here](https://learn.stfrancis.edu/api/v1/courses/1174984/files/62481303); 2.) Sigmund Freud's essay, \"The Uncanny\" available [here](https://learn.stfrancis.edu/api/v1/courses/1174984/files/62481313) and Chapter 2, \"Psychoanalytic Criticism,\" in Lois Tyson's _Critical Theory Today: A User-Friendly Guide_ available [here](https://learn.stfrancis.edu/api/v1/courses/1174984/files/62481281); 3.) Mark Fisher's _The Weird and the Eerie_ [here](https://learn.stfrancis.edu/api/v1/courses/1174984/files/62481319).   \n",
       "2                                                                                                                                                                                                                                                                                                                                                                                                                                                                                                                                                                                                                                                                                                                                                                               Choose another one of the texts listed above for Wednesday and have a quick read-through.   \n",
       "3                                                                                                                                                                                                                                                                                                                                                                                                                                                                                                                                                                                                                                                                                                                                                                                                                                                                           \n",
       "4                                                                                                                                                                                                                                                                                                                                                                                                                                                                                                                                                                                                                   Read Kubin, Blackwood, Saki, James, & Dunsany (_WC_, pp. 1-70)—for those interested in a graphic novel version of Saki's story, see Laura Neato's seven-page version [here](https://www.deviantart.com/lauraneato/art/Sredni-Vashtar-COVER-52751877).   \n",
       "\n",
       "                                                       Assignment  \n",
       "0                                                                  \n",
       "1  Week 0 Discussion Board Post (Section D, Section E, Section F)  \n",
       "2                                                                  \n",
       "3  Week 1 Discussion Board Post (Section D, Section E, Section F)  \n",
       "4                                                                  "
      ]
     },
     "execution_count": 20,
     "metadata": {},
     "output_type": "execute_result"
    }
   ],
   "source": [
    "# Ugh, I hardcoded this as I do have a \"Week 0\" assignment, but not a \"0\" in the \"Week\" column ... \n",
    "\n",
    "df_1.iloc[1, 0] = 0\n",
    "df_1.head()"
   ]
  },
  {
   "cell_type": "code",
   "execution_count": 21,
   "metadata": {},
   "outputs": [
    {
     "data": {
      "text/plain": [
       "{'td_id_e': '3771490',\n",
       " 'td_id_f': '3771488',\n",
       " 'td_id_d': '3771428',\n",
       " 'Reading Assignment Linked': 'Week 0 Discussion Board Post—[Section D](https://stfrancis.instructure.com/courses/1174984/discussion_topics/3771428), [Section E](https://stfrancis.instructure.com/courses/1174984/discussion_topics/3771490), [Section F](https://stfrancis.instructure.com/courses/1174984/discussion_topics/3771488)'}"
      ]
     },
     "execution_count": 21,
     "metadata": {},
     "output_type": "execute_result"
    }
   ],
   "source": [
    "data[\"0\"]"
   ]
  },
  {
   "attachments": {},
   "cell_type": "markdown",
   "metadata": {},
   "source": [
    "Now we want to get the links to the topics substituted for the text that didn't have any of the links in them. The ```course_schedule.csv``` file didn't have any of the links to any of the assignments, those we want to change each semester ..."
   ]
  },
  {
   "cell_type": "code",
   "execution_count": 22,
   "metadata": {},
   "outputs": [],
   "source": [
    "for index, row in df_1.iterrows():\n",
    "    if row['Assignment'] == \"\":\n",
    "        pass\n",
    "    else:\n",
    "        week_number = row['Week']\n",
    "        week_number_string = f\"{str(week_number)}\"\n",
    "        assignment_string = row['Assignment']\n",
    "        if week_number == 9:\n",
    "            pass\n",
    "        elif week_number == 17:\n",
    "            pass\n",
    "        else:\n",
    "            if week_number_string in assignment_string:\n",
    "                df_1.loc[index, \"Assignment\"] = data[week_number_string][\"Reading Assignment Linked\"]"
   ]
  },
  {
   "attachments": {},
   "cell_type": "markdown",
   "metadata": {},
   "source": [
    "Okay, one more sanity check here to see how we're doing!"
   ]
  },
  {
   "cell_type": "code",
   "execution_count": 23,
   "metadata": {},
   "outputs": [
    {
     "name": "stdout",
     "output_type": "stream",
     "text": [
      "|   Week | Day/Date               | Reading Assignment                                                                                                                                                                                                                                                                                                                                                                                                                                                                                                                                                                                                                                                                                                                                                                                                                                                     | Assignment                                                                                                                                                                                                                                                                                                 |\n",
      "|--------|------------------------|------------------------------------------------------------------------------------------------------------------------------------------------------------------------------------------------------------------------------------------------------------------------------------------------------------------------------------------------------------------------------------------------------------------------------------------------------------------------------------------------------------------------------------------------------------------------------------------------------------------------------------------------------------------------------------------------------------------------------------------------------------------------------------------------------------------------------------------------------------------------|------------------------------------------------------------------------------------------------------------------------------------------------------------------------------------------------------------------------------------------------------------------------------------------------------------|\n",
      "|      1 | Monday, January 09     | Read Michael Moorcock's \"Foreweird\" (in _WC_) and the \"Introduction,\" by the VanderMeers (_WC_).                                                                                                                                                                                                                                                                                                                                                                                                                                                                                                                                                                                                                                                                                                                                                                       |                                                                                                                                                                                                                                                                                                            |\n",
      "|      0 | Wednesday, January 11  | Choose one of the following readings that will give us some theoretical terms and terminology to use going forward: 1.) \"Section I: Introduction\" of H. P. Lovecraft's essay, \"Supernatural Horror in Literature\" available [here](https://www.hplovecraft.com/writings/texts/essays/shil.aspx) and his \"Notes on Writing Weird Fiction\" [here](https://learn.stfrancis.edu/api/v1/courses/1174984/files/62481303); 2.) Sigmund Freud's essay, \"The Uncanny\" available [here](https://learn.stfrancis.edu/api/v1/courses/1174984/files/62481313) and Chapter 2, \"Psychoanalytic Criticism,\" in Lois Tyson's _Critical Theory Today: A User-Friendly Guide_ available [here](https://learn.stfrancis.edu/api/v1/courses/1174984/files/62481281); 3.) Mark Fisher's _The Weird and the Eerie_ [here](https://learn.stfrancis.edu/api/v1/courses/1174984/files/62481319). | Week 0 Discussion Board Post—[Section D](https://stfrancis.instructure.com/courses/1174984/discussion_topics/3771428), [Section E](https://stfrancis.instructure.com/courses/1174984/discussion_topics/3771490), [Section F](https://stfrancis.instructure.com/courses/1174984/discussion_topics/3771488)  |\n",
      "|      1 | Friday, January 13     | Choose another one of the texts listed above for Wednesday and have a quick read-through.                                                                                                                                                                                                                                                                                                                                                                                                                                                                                                                                                                                                                                                                                                                                                                              |                                                                                                                                                                                                                                                                                                            |\n",
      "|      1 | Sunday, January 15     |                                                                                                                                                                                                                                                                                                                                                                                                                                                                                                                                                                                                                                                                                                                                                                                                                                                                        | Week 1 Discussion Board Post—[Section D](https://stfrancis.instructure.com/courses/1174984/discussion_topics/3771430), [Section E](https://stfrancis.instructure.com/courses/1174984/discussion_topics/3771486), [Section F](https://stfrancis.instructure.com/courses/1174984/discussion_topics/3771484)  |\n",
      "|      2 | Monday, January 16     | Read Kubin, Blackwood, Saki, James, & Dunsany (_WC_, pp. 1-70)—for those interested in a graphic novel version of Saki's story, see Laura Neato's seven-page version [here](https://www.deviantart.com/lauraneato/art/Sredni-Vashtar-COVER-52751877).                                                                                                                                                                                                                                                                                                                                                                                                                                                                                                                                                                                                                  |                                                                                                                                                                                                                                                                                                            |\n",
      "|      2 | Wednesday, January 18  | Meyrink, Heym, & Ewers (pp. 71-89)                                                                                                                                                                                                                                                                                                                                                                                                                                                                                                                                                                                                                                                                                                                                                                                                                                     |                                                                                                                                                                                                                                                                                                            |\n",
      "|      2 | Friday, January 20     | Tagore, Ugolini, & Merritt (pp. 90-109)                                                                                                                                                                                                                                                                                                                                                                                                                                                                                                                                                                                                                                                                                                                                                                                                                                |                                                                                                                                                                                                                                                                                                            |\n",
      "|      2 | Sunday, January 22     |                                                                                                                                                                                                                                                                                                                                                                                                                                                                                                                                                                                                                                                                                                                                                                                                                                                                        | Week 2 Discussion Board Post—[Section D](https://stfrancis.instructure.com/courses/1174984/discussion_topics/3771426), [Section E](https://stfrancis.instructure.com/courses/1174984/discussion_topics/3771482), [Section F](https://stfrancis.instructure.com/courses/1174984/discussion_topics/3771480)  |\n",
      "|      3 | Monday, January 23     | Akutagawa, Stevens, & Kafka (pp. 110-147)                                                                                                                                                                                                                                                                                                                                                                                                                                                                                                                                                                                                                                                                                                                                                                                                                              |                                                                                                                                                                                                                                                                                                            |\n",
      "|      3 | Wednesday, January 25  | Grabinski, Arnold, & Lovecraft (pp. 148-182)—if you're interested in the epigraph to Lovecraft's story, the full version is available [here](https://www.angelfire.com/nv/mf/elia1/witches.html).                                                                                                                                                                                                                                                                                                                                                                                                                                                                                                                                                                                                                                                                      |                                                                                                                                                                                                                                                                                                            |\n",
      "|      3 | Friday, January 27     | Irwin, Ray, & Ray (pp. 183-222)                                                                                                                                                                                                                                                                                                                                                                                                                                                                                                                                                                                                                                                                                                                                                                                                                                        |                                                                                                                                                                                                                                                                                                            |\n",
      "|      3 | Sunday, January 29     |                                                                                                                                                                                                                                                                                                                                                                                                                                                                                                                                                                                                                                                                                                                                                                                                                                                                        | Week 3 Discussion Board Post—[Section D](https://stfrancis.instructure.com/courses/1174984/discussion_topics/3771424), [Section E](https://stfrancis.instructure.com/courses/1174984/discussion_topics/3771478), [Section F](https://stfrancis.instructure.com/courses/1174984/discussion_topics/3771476)  |\n",
      "|      4 | Monday, January 30     | Smith, Sakutaro, & Walpole (pp. 223-247)                                                                                                                                                                                                                                                                                                                                                                                                                                                                                                                                                                                                                                                                                                                                                                                                                               |                                                                                                                                                                                                                                                                                                            |\n",
      "|      4 | Wednesday, February 01 | Schulz, Johnson & Leiber (pp. 248-276)                                                                                                                                                                                                                                                                                                                                                                                                                                                                                                                                                                                                                                                                                                                                                                                                                                 |                                                                                                                                                                                                                                                                                                            |\n",
      "|      4 | Friday, February 03    | Carrington, Wollheim, & Bradbury (pp. 277-289)                                                                                                                                                                                                                                                                                                                                                                                                                                                                                                                                                                                                                                                                                                                                                                                                                         |                                                                                                                                                                                                                                                                                                            |\n",
      "|      4 | Sunday, February 05    |                                                                                                                                                                                                                                                                                                                                                                                                                                                                                                                                                                                                                                                                                                                                                                                                                                                                        | Week 4 Discussion Board Post—[Section D](https://stfrancis.instructure.com/courses/1174984/discussion_topics/3771422), [Section E](https://stfrancis.instructure.com/courses/1174984/discussion_topics/3771474), [Section F](https://stfrancis.instructure.com/courses/1174984/discussion_topics/3771472)  |\n",
      "|      5 | Monday, February 06    | Sansom, Borges, & Bhely-Quenum (pp. 290-310)                                                                                                                                                                                                                                                                                                                                                                                                                                                                                                                                                                                                                                                                                                                                                                                                                           |                                                                                                                                                                                                                                                                                                            |\n",
      "|      5 | Wednesday, February 08 | Jackson, St. Clair, & Bloch (pp. 311-332)—for those who liked Shirley Jackson's \"The Summer People,\" feel free to have a read of what many readers/experts consider to be her best story, \"The Lottery\" [here](https://learn.stfrancis.edu/courses/1174984/files/62481311).                                                                                                                                                                                                                                                                                                                                                                                                                                                                                                                                                                                            |                                                                                                                                                                                                                                                                                                            |\n",
      "|      5 | Friday, February 10    | Tutuola, Bixby, & Monterroso (pp. 333-351)                                                                                                                                                                                                                                                                                                                                                                                                                                                                                                                                                                                                                                                                                                                                                                                                                             |                                                                                                                                                                                                                                                                                                            |\n",
      "|      5 | Sunday, February 12    |                                                                                                                                                                                                                                                                                                                                                                                                                                                                                                                                                                                                                                                                                                                                                                                                                                                                        | Week 5 Discussion Board Post—[Section D](https://stfrancis.instructure.com/courses/1174984/discussion_topics/3771420), [Section E](https://stfrancis.instructure.com/courses/1174984/discussion_topics/3771470), [Section F](https://stfrancis.instructure.com/courses/1174984/discussion_topics/3771468)  |\n",
      "|      6 | Monday, February 13    | Cortazar, Sansom, & Beaumont (pp. 352-367)                                                                                                                                                                                                                                                                                                                                                                                                                                                                                                                                                                                                                                                                                                                                                                                                                             |                                                                                                                                                                                                                                                                                                            |\n",
      "|      6 | Wednesday, February 15 | Peake, Buzzati, & Bernanos (pp. 368-405)—if you loved the Buzzati, don't hesitate to read his \"The Falling Girl\" available [here](https://learn.stfrancis.edu/courses/1174984/files/62481283).                                                                                                                                                                                                                                                                                                                                                                                                                                                                                                                                                                                                                                                                         |                                                                                                                                                                                                                                                                                                            |\n",
      "|      6 | Friday, February 17    | Rodoreda, Seignolle, & Wilson (pp. 406-422)                                                                                                                                                                                                                                                                                                                                                                                                                                                                                                                                                                                                                                                                                                                                                                                                                            |                                                                                                                                                                                                                                                                                                            |\n",
      "|      6 | Sunday, February 19    |                                                                                                                                                                                                                                                                                                                                                                                                                                                                                                                                                                                                                                                                                                                                                                                                                                                                        | Week 6 Discussion Board Post—[Section D](https://stfrancis.instructure.com/courses/1174984/discussion_topics/3771418), [Section E](https://stfrancis.instructure.com/courses/1174984/discussion_topics/3771466), [Section F](https://stfrancis.instructure.com/courses/1174984/discussion_topics/3771464)  |\n",
      "|      7 | Monday, February 20    | du Maurier, Aickman, & Etchison (pp. 423-473)                                                                                                                                                                                                                                                                                                                                                                                                                                                                                                                                                                                                                                                                                                                                                                                                                          |                                                                                                                                                                                                                                                                                                            |\n",
      "|      7 | Wednesday, February 22 | Tiptree, Jr., Basso, & Kincaid (pp. 474-520)                                                                                                                                                                                                                                                                                                                                                                                                                                                                                                                                                                                                                                                                                                                                                                                                                           |                                                                                                                                                                                                                                                                                                            |\n",
      "|      7 | Friday, February 24    | Martin, Leman, Campbell (pp. 521-559)                                                                                                                                                                                                                                                                                                                                                                                                                                                                                                                                                                                                                                                                                                                                                                                                                                  |                                                                                                                                                                                                                                                                                                            |\n",
      "|      7 | Sunday, February 26    |                                                                                                                                                                                                                                                                                                                                                                                                                                                                                                                                                                                                                                                                                                                                                                                                                                                                        | Week 7 Discussion Board Post—[Section D](https://stfrancis.instructure.com/courses/1174984/discussion_topics/3771416), [Section E](https://stfrancis.instructure.com/courses/1174984/discussion_topics/3771462), [Section F](https://stfrancis.instructure.com/courses/1174984/discussion_topics/3771460)  |\n",
      "|      8 | Monday, February 27    | Shea, William Gibson/John Shirley, & Harrison (pp. 560-599)                                                                                                                                                                                                                                                                                                                                                                                                                                                                                                                                                                                                                                                                                                                                                                                                            |                                                                                                                                                                                                                                                                                                            |\n",
      "|      8 | Wednesday, March 01    | Russ, Harrison, & Mitra (pp. 600-622)                                                                                                                                                                                                                                                                                                                                                                                                                                                                                                                                                                                                                                                                                                                                                                                                                                  |                                                                                                                                                                                                                                                                                                            |\n",
      "|      8 | Friday, March 03       | Wilson, Butler, & Barker (pp. 623-656)                                                                                                                                                                                                                                                                                                                                                                                                                                                                                                                                                                                                                                                                                                                                                                                                                                 |                                                                                                                                                                                                                                                                                                            |\n",
      "|      8 | Sunday, March 05       |                                                                                                                                                                                                                                                                                                                                                                                                                                                                                                                                                                                                                                                                                                                                                                                                                                                                        | Week 8 Discussion Board Post—[Section D](https://stfrancis.instructure.com/courses/1174984/discussion_topics/3771414), [Section E](https://stfrancis.instructure.com/courses/1174984/discussion_topics/3771458), [Section F](https://stfrancis.instructure.com/courses/1174984/discussion_topics/3771456)  |\n",
      "|      9 | Monday, March 06       | FINAL PROJECT PROPOSAL WORKSHOP WEEK—No assigned reading this week.                                                                                                                                                                                                                                                                                                                                                                                                                                                                                                                                                                                                                                                                                                                                                                                                    |                                                                                                                                                                                                                                                                                                            |\n",
      "|      9 | Wednesday, March 08    | FINAL PROJECT PROPOSAL WORKSHOP WEEK—No assigned reading this week.                                                                                                                                                                                                                                                                                                                                                                                                                                                                                                                                                                                                                                                                                                                                                                                                    |                                                                                                                                                                                                                                                                                                            |\n",
      "|      9 | Friday, March 10       | FINAL PROJECT PROPOSAL WORKSHOP WEEK—No assigned reading this week.                                                                                                                                                                                                                                                                                                                                                                                                                                                                                                                                                                                                                                                                                                                                                                                                    |                                                                                                                                                                                                                                                                                                            |\n",
      "|      9 | Sunday, March 12       |                                                                                                                                                                                                                                                                                                                                                                                                                                                                                                                                                                                                                                                                                                                                                                                                                                                                        | [Final Project Proposal Due](https://learn.stfrancis.edu/courses/1174984/assignments/6491662)                                                                                                                                                                                                              |\n",
      "|     10 | Monday, March 13       | Krohn, Kilworth, & Shepard (pp. 657-717)                                                                                                                                                                                                                                                                                                                                                                                                                                                                                                                                                                                                                                                                                                                                                                                                                               |                                                                                                                                                                                                                                                                                                            |\n",
      "|     10 | Wednesday, March 15    | Ellison, Okri, & Hand (pp. 718-755)                                                                                                                                                                                                                                                                                                                                                                                                                                                                                                                                                                                                                                                                                                                                                                                                                                    |                                                                                                                                                                                                                                                                                                            |\n",
      "|     10 | Friday, March 17       | Oates, Brite, & Ajvaz (pp. 756-776)                                                                                                                                                                                                                                                                                                                                                                                                                                                                                                                                                                                                                                                                                                                                                                                                                                    |                                                                                                                                                                                                                                                                                                            |\n",
      "|     10 | Sunday, March 19       |                                                                                                                                                                                                                                                                                                                                                                                                                                                                                                                                                                                                                                                                                                                                                                                                                                                                        | Week 10 Discussion Board Post—[Section D](https://stfrancis.instructure.com/courses/1174984/discussion_topics/3771402), [Section E](https://stfrancis.instructure.com/courses/1174984/discussion_topics/3771454), [Section F](https://stfrancis.instructure.com/courses/1174984/discussion_topics/3771452) |\n",
      "|     11 | Monday, March 20       | Fowler, Koja, & Murakami (pp. 777-797)                                                                                                                                                                                                                                                                                                                                                                                                                                                                                                                                                                                                                                                                                                                                                                                                                                 |                                                                                                                                                                                                                                                                                                            |\n",
      "|     11 | Wednesday, March 22    | Tuttle, Laidlaw, & Utley (pp. 798-823)                                                                                                                                                                                                                                                                                                                                                                                                                                                                                                                                                                                                                                                                                                                                                                                                                                 |                                                                                                                                                                                                                                                                                                            |\n",
      "|     11 | Friday, March 24       | Simpson, Spencer, Ford (pp. 824-843)                                                                                                                                                                                                                                                                                                                                                                                                                                                                                                                                                                                                                                                                                                                                                                                                                                   |                                                                                                                                                                                                                                                                                                            |\n",
      "|     11 | Sunday, March 26       |                                                                                                                                                                                                                                                                                                                                                                                                                                                                                                                                                                                                                                                                                                                                                                                                                                                                        | Week 11 Discussion Board Post—[Section D](https://stfrancis.instructure.com/courses/1174984/discussion_topics/3771412), [Section E](https://stfrancis.instructure.com/courses/1174984/discussion_topics/3771450), [Section F](https://stfrancis.instructure.com/courses/1174984/discussion_topics/3771448) |\n",
      "|     12 | Monday, March 27       | King, Carter, Padawer (pp. 844-875)                                                                                                                                                                                                                                                                                                                                                                                                                                                                                                                                                                                                                                                                                                                                                                                                                                    |                                                                                                                                                                                                                                                                                                            |\n",
      "|     12 | Wednesday, March 29    | Chapman, Lee, Link (pp. 876-895)                                                                                                                                                                                                                                                                                                                                                                                                                                                                                                                                                                                                                                                                                                                                                                                                                                       |                                                                                                                                                                                                                                                                                                            |\n",
      "|     12 | Friday, March 31       | Kiernan, Chabon, & Mieville (pp. 896-921)                                                                                                                                                                                                                                                                                                                                                                                                                                                                                                                                                                                                                                                                                                                                                                                                                              |                                                                                                                                                                                                                                                                                                            |\n",
      "|     12 | Sunday, April 02       |                                                                                                                                                                                                                                                                                                                                                                                                                                                                                                                                                                                                                                                                                                                                                                                                                                                                        | Week 12 Discussion Board Post—[Section D](https://stfrancis.instructure.com/courses/1174984/discussion_topics/3771410), [Section E](https://stfrancis.instructure.com/courses/1174984/discussion_topics/3771446), [Section F](https://stfrancis.instructure.com/courses/1174984/discussion_topics/3771444) |\n",
      "|     13 | Monday, April 03       | Cisco, Gaiman, VanderMeer (pp. 922-962)                                                                                                                                                                                                                                                                                                                                                                                                                                                                                                                                                                                                                                                                                                                                                                                                                                |                                                                                                                                                                                                                                                                                                            |\n",
      "|     13 | Wednesday, April 05    | Ford, Ligotti, Evenson (pp. 963-1005)                                                                                                                                                                                                                                                                                                                                                                                                                                                                                                                                                                                                                                                                                                                                                                                                                                  |                                                                                                                                                                                                                                                                                                            |\n",
      "|     13 | Friday, April 07       | Samuels, Abraham, Lanagan (pp. 1006-1035)                                                                                                                                                                                                                                                                                                                                                                                                                                                                                                                                                                                                                                                                                                                                                                                                                              |                                                                                                                                                                                                                                                                                                            |\n",
      "|     13 | Sunday, April 09       |                                                                                                                                                                                                                                                                                                                                                                                                                                                                                                                                                                                                                                                                                                                                                                                                                                                                        | Week 13 Discussion Board Post—[Section D](https://stfrancis.instructure.com/courses/1174984/discussion_topics/3771408), [Section E](https://stfrancis.instructure.com/courses/1174984/discussion_topics/3771442), [Section F](https://stfrancis.instructure.com/courses/1174984/discussion_topics/3771440) |\n",
      "|     14 | Monday, April 10       | Wright, Barron, Williams (pp. 1036-1068)                                                                                                                                                                                                                                                                                                                                                                                                                                                                                                                                                                                                                                                                                                                                                                                                                               |                                                                                                                                                                                                                                                                                                            |\n",
      "|     14 | Wednesday, April 12    | Negarestani, Morrissette, & Duffy (pp. 1069-1099)                                                                                                                                                                                                                                                                                                                                                                                                                                                                                                                                                                                                                                                                                                                                                                                                                      |                                                                                                                                                                                                                                                                                                            |\n",
      "|     14 | Friday, April 14       | Jones & Bishop (pp. 1100-1112)                                                                                                                                                                                                                                                                                                                                                                                                                                                                                                                                                                                                                                                                                                                                                                                                                                         |                                                                                                                                                                                                                                                                                                            |\n",
      "|     14 | Sunday, April 16       |                                                                                                                                                                                                                                                                                                                                                                                                                                                                                                                                                                                                                                                                                                                                                                                                                                                                        | Week 14 Discussion Board Post—[Section D](https://stfrancis.instructure.com/courses/1174984/discussion_topics/3771406), [Section E](https://stfrancis.instructure.com/courses/1174984/discussion_topics/3771438), [Section F](https://stfrancis.instructure.com/courses/1174984/discussion_topics/3771436) |\n",
      "|     15 | Monday, April 17       | FINAL PROJECT WORK WEEK #1                                                                                                                                                                                                                                                                                                                                                                                                                                                                                                                                                                                                                                                                                                                                                                                                                                             |                                                                                                                                                                                                                                                                                                            |\n",
      "|     15 | Wednesday, April 19    | FINAL PROJECT WORK WEEK #1                                                                                                                                                                                                                                                                                                                                                                                                                                                                                                                                                                                                                                                                                                                                                                                                                                             |                                                                                                                                                                                                                                                                                                            |\n",
      "|     15 | Friday, April 21       | FINAL PROJECT WORK WEEK #1                                                                                                                                                                                                                                                                                                                                                                                                                                                                                                                                                                                                                                                                                                                                                                                                                                             |                                                                                                                                                                                                                                                                                                            |\n",
      "|     15 | Sunday, April 23       |                                                                                                                                                                                                                                                                                                                                                                                                                                                                                                                                                                                                                                                                                                                                                                                                                                                                        | Week 15 Discussion Board Post—[Section D](https://stfrancis.instructure.com/courses/1174984/discussion_topics/3771404), [Section E](https://stfrancis.instructure.com/courses/1174984/discussion_topics/3771434), [Section F](https://stfrancis.instructure.com/courses/1174984/discussion_topics/3771432) |\n",
      "|     16 | Monday, April 24       | FINAL PROJECT WORK WEEK #2                                                                                                                                                                                                                                                                                                                                                                                                                                                                                                                                                                                                                                                                                                                                                                                                                                             |                                                                                                                                                                                                                                                                                                            |\n",
      "|     16 | Wednesday, April 26    | FINAL PROJECT WORK WEEK #2                                                                                                                                                                                                                                                                                                                                                                                                                                                                                                                                                                                                                                                                                                                                                                                                                                             |                                                                                                                                                                                                                                                                                                            |\n",
      "|     16 | Friday, April 28       | FINAL PROJECT WORK WEEK #2                                                                                                                                                                                                                                                                                                                                                                                                                                                                                                                                                                                                                                                                                                                                                                                                                                             |                                                                                                                                                                                                                                                                                                            |\n",
      "|     16 | Sunday, April 30       |                                                                                                                                                                                                                                                                                                                                                                                                                                                                                                                                                                                                                                                                                                                                                                                                                                                                        |                                                                                                                                                                                                                                                                                                            |\n",
      "|     17 | Monday, May 01         |                                                                                                                                                                                                                                                                                                                                                                                                                                                                                                                                                                                                                                                                                                                                                                                                                                                                        |                                                                                                                                                                                                                                                                                                            |\n",
      "|     17 | Wednesday, May 03      |                                                                                                                                                                                                                                                                                                                                                                                                                                                                                                                                                                                                                                                                                                                                                                                                                                                                        |                                                                                                                                                                                                                                                                                                            |\n",
      "|     17 | Friday, May 05         |                                                                                                                                                                                                                                                                                                                                                                                                                                                                                                                                                                                                                                                                                                                                                                                                                                                                        | [FINAL PROJECTS DUE](https://learn.stfrancis.edu/courses/1174984/assignments/6491660)                                                                                                                                                                                                                      |\n"
     ]
    }
   ],
   "source": [
    "print(df_1.to_markdown(index=False, tablefmt=\"github\"))"
   ]
  },
  {
   "attachments": {},
   "cell_type": "markdown",
   "metadata": {},
   "source": [
    "Of course, if you're not in the mood to select all of the output in the previous cell and then copy and paste it into another markdown file, pandas has this nice little [```to_clipboard()```](https://pandas.pydata.org/docs/reference/api/pandas.DataFrame.to_clipboard.html) function that takes the output and copies it to the clipboard. All my thanks for this little shortcut goes to [Joel McClune](https://joelmccune.com/pandas-dataframe-to-markdown/)!"
   ]
  },
  {
   "cell_type": "code",
   "execution_count": 24,
   "metadata": {},
   "outputs": [],
   "source": [
    "to_clipboard(df_1.to_markdown(index=False), tablefmt=\"grid\", excel=False)"
   ]
  }
 ],
 "metadata": {
  "kernelspec": {
   "display_name": "base",
   "language": "python",
   "name": "python3"
  },
  "language_info": {
   "codemirror_mode": {
    "name": "ipython",
    "version": 3
   },
   "file_extension": ".py",
   "mimetype": "text/x-python",
   "name": "python",
   "nbconvert_exporter": "python",
   "pygments_lexer": "ipython3",
   "version": "3.9.12"
  },
  "orig_nbformat": 4,
  "vscode": {
   "interpreter": {
    "hash": "19e56c70b3071a7c9e5271d6c05d63446be4cb37f733ae995dda36f1f67e797e"
   }
  }
 },
 "nbformat": 4,
 "nbformat_minor": 2
}
