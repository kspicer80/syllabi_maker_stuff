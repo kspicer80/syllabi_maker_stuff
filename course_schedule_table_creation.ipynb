{
 "cells": [
  {
   "cell_type": "code",
   "execution_count": 1,
   "metadata": {},
   "outputs": [],
   "source": [
    "import pandas as pd\n"
   ]
  },
  {
   "cell_type": "code",
   "execution_count": 2,
   "metadata": {},
   "outputs": [
    {
     "data": {
      "text/plain": [
       "[1, 2, 3, 4, 5, 6, 7, 8, 9, 10, 11, 12, 13, 14, 15, 16, 17]"
      ]
     },
     "execution_count": 2,
     "metadata": {},
     "output_type": "execute_result"
    }
   ],
   "source": [
    "week_number = [i for i in range(1, 18)]\n",
    "week_number"
   ]
  },
  {
   "cell_type": "code",
   "execution_count": 3,
   "metadata": {},
   "outputs": [],
   "source": [
    "week_list = [i for i in range(1, 18) for j in range(4)]"
   ]
  },
  {
   "cell_type": "code",
   "execution_count": 4,
   "metadata": {},
   "outputs": [],
   "source": [
    "from datetime import datetime, timedelta\n",
    "\n",
    "start_date = datetime(2023, 1, 9)  # Start date\n",
    "end_date = datetime(2023, 5, 5)    # End date\n",
    "\n",
    "# Create a list of dates between the start and end dates\n",
    "dates = []\n",
    "while start_date <= end_date:\n",
    "    # If the day of the week is Monday, Wednesday, Friday, or Sunday, append it to the list\n",
    "    if start_date.weekday() in [0, 2, 4, 6]:\n",
    "        dates.append(start_date.strftime('%A, %B %d'))\n",
    "    start_date += timedelta(days=1)"
   ]
  },
  {
   "cell_type": "code",
   "execution_count": 5,
   "metadata": {},
   "outputs": [
    {
     "name": "stdout",
     "output_type": "stream",
     "text": [
      "68\n",
      "67\n"
     ]
    }
   ],
   "source": [
    "print(len(week_list))\n",
    "print(len(dates))"
   ]
  },
  {
   "cell_type": "code",
   "execution_count": 6,
   "metadata": {},
   "outputs": [
    {
     "data": {
      "text/plain": [
       "17"
      ]
     },
     "execution_count": 6,
     "metadata": {},
     "output_type": "execute_result"
    }
   ],
   "source": [
    "week_list.pop()"
   ]
  },
  {
   "cell_type": "code",
   "execution_count": 7,
   "metadata": {},
   "outputs": [
    {
     "name": "stdout",
     "output_type": "stream",
     "text": [
      "67\n",
      "67\n"
     ]
    }
   ],
   "source": [
    "print(len(week_list))\n",
    "print(len(dates))"
   ]
  },
  {
   "cell_type": "code",
   "execution_count": 8,
   "metadata": {},
   "outputs": [],
   "source": [
    "table_df = pd.read_csv('course_schedule.csv', encoding='utf-8')\n",
    "table_df.head()\n"
   ]
  },
  {
   "cell_type": "code",
   "execution_count": 9,
   "metadata": {},
   "outputs": [],
   "source": [
    "data = {\n",
    "    'Week': week_list,\n",
    "    'Day/Date': dates,\n",
    "    'Reading Assignment': reading_assignments,\n",
    "    'Assignment': assignments\n",
    "}"
   ]
  },
  {
   "cell_type": "code",
   "execution_count": 10,
   "metadata": {},
   "outputs": [
    {
     "data": {
      "text/html": [
       "<div>\n",
       "<style scoped>\n",
       "    .dataframe tbody tr th:only-of-type {\n",
       "        vertical-align: middle;\n",
       "    }\n",
       "\n",
       "    .dataframe tbody tr th {\n",
       "        vertical-align: top;\n",
       "    }\n",
       "\n",
       "    .dataframe thead th {\n",
       "        text-align: right;\n",
       "    }\n",
       "</style>\n",
       "<table border=\"1\" class=\"dataframe\">\n",
       "  <thead>\n",
       "    <tr style=\"text-align: right;\">\n",
       "      <th></th>\n",
       "      <th>Week</th>\n",
       "      <th>Day/Date</th>\n",
       "      <th>Reading Assignment</th>\n",
       "      <th>Assignment</th>\n",
       "    </tr>\n",
       "  </thead>\n",
       "  <tbody>\n",
       "    <tr>\n",
       "      <th>0</th>\n",
       "      <td>1</td>\n",
       "      <td>Monday, January 09</td>\n",
       "      <td>Read Michael Moorcock's \"Foreweird�\" (in WC) a...</td>\n",
       "      <td>NaN</td>\n",
       "    </tr>\n",
       "    <tr>\n",
       "      <th>1</th>\n",
       "      <td>1</td>\n",
       "      <td>Wednesday, January 11</td>\n",
       "      <td>Choose one of the following readings that will...</td>\n",
       "      <td>Week 0: Introducing Yourself (Section D, Secti...</td>\n",
       "    </tr>\n",
       "    <tr>\n",
       "      <th>2</th>\n",
       "      <td>1</td>\n",
       "      <td>Friday, January 13</td>\n",
       "      <td>Choose another one of the texts listed above f...</td>\n",
       "      <td>NaN</td>\n",
       "    </tr>\n",
       "    <tr>\n",
       "      <th>3</th>\n",
       "      <td>1</td>\n",
       "      <td>Sunday, January 15</td>\n",
       "      <td>NaN</td>\n",
       "      <td>Week 1 Discussion Board Post (Section D, Secti...</td>\n",
       "    </tr>\n",
       "    <tr>\n",
       "      <th>4</th>\n",
       "      <td>2</td>\n",
       "      <td>Monday, January 16</td>\n",
       "      <td>Read Kubin, Blackwood, Saki, James, &amp; Dunsany ...</td>\n",
       "      <td>NaN</td>\n",
       "    </tr>\n",
       "  </tbody>\n",
       "</table>\n",
       "</div>"
      ],
      "text/plain": [
       "   Week               Day/Date  \\\n",
       "0     1     Monday, January 09   \n",
       "1     1  Wednesday, January 11   \n",
       "2     1     Friday, January 13   \n",
       "3     1     Sunday, January 15   \n",
       "4     2     Monday, January 16   \n",
       "\n",
       "                                  Reading Assignment  \\\n",
       "0  Read Michael Moorcock's \"Foreweird�\" (in WC) a...   \n",
       "1  Choose one of the following readings that will...   \n",
       "2  Choose another one of the texts listed above f...   \n",
       "3                                                NaN   \n",
       "4  Read Kubin, Blackwood, Saki, James, & Dunsany ...   \n",
       "\n",
       "                                          Assignment  \n",
       "0                                                NaN  \n",
       "1  Week 0: Introducing Yourself (Section D, Secti...  \n",
       "2                                                NaN  \n",
       "3  Week 1 Discussion Board Post (Section D, Secti...  \n",
       "4                                                NaN  "
      ]
     },
     "execution_count": 10,
     "metadata": {},
     "output_type": "execute_result"
    }
   ],
   "source": [
    "df = pd.DataFrame(data)\n",
    "df.head()"
   ]
  },
  {
   "cell_type": "code",
   "execution_count": 11,
   "metadata": {},
   "outputs": [
    {
     "data": {
      "text/html": [
       "<div>\n",
       "<style scoped>\n",
       "    .dataframe tbody tr th:only-of-type {\n",
       "        vertical-align: middle;\n",
       "    }\n",
       "\n",
       "    .dataframe tbody tr th {\n",
       "        vertical-align: top;\n",
       "    }\n",
       "\n",
       "    .dataframe thead th {\n",
       "        text-align: right;\n",
       "    }\n",
       "</style>\n",
       "<table border=\"1\" class=\"dataframe\">\n",
       "  <thead>\n",
       "    <tr style=\"text-align: right;\">\n",
       "      <th></th>\n",
       "      <th>Day/Date</th>\n",
       "      <th>Reading Assignment</th>\n",
       "      <th>Assignment</th>\n",
       "    </tr>\n",
       "    <tr>\n",
       "      <th>Week</th>\n",
       "      <th></th>\n",
       "      <th></th>\n",
       "      <th></th>\n",
       "    </tr>\n",
       "  </thead>\n",
       "  <tbody>\n",
       "    <tr>\n",
       "      <th>1</th>\n",
       "      <td>Monday, January 09</td>\n",
       "      <td>Read Michael Moorcock's \"Foreweird�\" (in WC) a...</td>\n",
       "      <td>NaN</td>\n",
       "    </tr>\n",
       "    <tr>\n",
       "      <th>1</th>\n",
       "      <td>Wednesday, January 11</td>\n",
       "      <td>Choose one of the following readings that will...</td>\n",
       "      <td>Week 0: Introducing Yourself (Section D, Secti...</td>\n",
       "    </tr>\n",
       "    <tr>\n",
       "      <th>1</th>\n",
       "      <td>Friday, January 13</td>\n",
       "      <td>Choose another one of the texts listed above f...</td>\n",
       "      <td>NaN</td>\n",
       "    </tr>\n",
       "    <tr>\n",
       "      <th>1</th>\n",
       "      <td>Sunday, January 15</td>\n",
       "      <td>NaN</td>\n",
       "      <td>Week 1 Discussion Board Post (Section D, Secti...</td>\n",
       "    </tr>\n",
       "    <tr>\n",
       "      <th>2</th>\n",
       "      <td>Monday, January 16</td>\n",
       "      <td>Read Kubin, Blackwood, Saki, James, &amp; Dunsany ...</td>\n",
       "      <td>NaN</td>\n",
       "    </tr>\n",
       "  </tbody>\n",
       "</table>\n",
       "</div>"
      ],
      "text/plain": [
       "                   Day/Date  \\\n",
       "Week                          \n",
       "1        Monday, January 09   \n",
       "1     Wednesday, January 11   \n",
       "1        Friday, January 13   \n",
       "1        Sunday, January 15   \n",
       "2        Monday, January 16   \n",
       "\n",
       "                                     Reading Assignment  \\\n",
       "Week                                                      \n",
       "1     Read Michael Moorcock's \"Foreweird�\" (in WC) a...   \n",
       "1     Choose one of the following readings that will...   \n",
       "1     Choose another one of the texts listed above f...   \n",
       "1                                                   NaN   \n",
       "2     Read Kubin, Blackwood, Saki, James, & Dunsany ...   \n",
       "\n",
       "                                             Assignment  \n",
       "Week                                                     \n",
       "1                                                   NaN  \n",
       "1     Week 0: Introducing Yourself (Section D, Secti...  \n",
       "1                                                   NaN  \n",
       "1     Week 1 Discussion Board Post (Section D, Secti...  \n",
       "2                                                   NaN  "
      ]
     },
     "execution_count": 11,
     "metadata": {},
     "output_type": "execute_result"
    }
   ],
   "source": [
    "df = df.set_index('Week')\n",
    "df.head()"
   ]
  },
  {
   "cell_type": "code",
   "execution_count": 12,
   "metadata": {},
   "outputs": [],
   "source": [
    "import numpy as np\n",
    "df = df.replace(np.nan,'',regex=True)"
   ]
  },
  {
   "cell_type": "code",
   "execution_count": 13,
   "metadata": {},
   "outputs": [
    {
     "name": "stdout",
     "output_type": "stream",
     "text": [
      "|   Week | Day/Date               | Reading Assignment                                                                                                                                                                                                                                                                                                                                                                                                                                                                                                | Assignment                                                        |\n",
      "|--------|------------------------|-------------------------------------------------------------------------------------------------------------------------------------------------------------------------------------------------------------------------------------------------------------------------------------------------------------------------------------------------------------------------------------------------------------------------------------------------------------------------------------------------------------------|-------------------------------------------------------------------|\n",
      "|      1 | Monday, January 09     | Read Michael Moorcock's \"Foreweird�\" (in WC) and the \"Introduction,\" by the VanderMeers (WC).                                                                                                                                                                                                                                                                                                                                                                                                                     |                                                                   |\n",
      "|      1 | Wednesday, January 11  | Choose one of the following readings that will give us some theoretical terms and terminology to use going forward: 1.) \"Section I: Introduction�\" of H. P. Lovecraft's essay, \"Supernatural Horror in Literature�\" available here and his \"Notes on Writing Weird Fiction\" here. 2.) Sigmund Freud's essay, \"The Uncanny�\" available here and Chapter 2, \"Psychoanalytic Criticism,\" in Lois Tyson's Critical Theory Today: A User-Friendly Guide available here 3.) Mark Fisher's The Weird and the Eerie here. | Week 0: Introducing Yourself (Section D, Section E, Section F)    |\n",
      "|      1 | Friday, January 13     | Choose another one of the texts listed above for Wednesday and have a quick read-through.                                                                                                                                                                                                                                                                                                                                                                                                                         |                                                                   |\n",
      "|      1 | Sunday, January 15     |                                                                                                                                                                                                                                                                                                                                                                                                                                                                                                                   | Week 1 Discussion Board Post (Section D, Section E, Section F)    |\n",
      "|      2 | Monday, January 16     | Read Kubin, Blackwood, Saki, James, & Dunsany (pp. 1-70)�forthose interested in a graphic novel version of Saki's story, see Laura Neato's seven-page version here.                                                                                                                                                                                                                                                                                                                                               |                                                                   |\n",
      "|      2 | Wednesday, January 18  | Meyrink, Heym, & Ewers (pp. 71-89)                                                                                                                                                                                                                                                                                                                                                                                                                                                                                |                                                                   |\n",
      "|      2 | Friday, January 20     | Tagore, Ugolini, & Merritt (pp. 90-109)                                                                                                                                                                                                                                                                                                                                                                                                                                                                           |                                                                   |\n",
      "|      2 | Sunday, January 22     |                                                                                                                                                                                                                                                                                                                                                                                                                                                                                                                   | Week 2 Discussion Board Post (Section D, Section E, Section F)    |\n",
      "|      3 | Monday, January 23     | Akutagawa, Stevens, & Kafka (pp. 110-147)                                                                                                                                                                                                                                                                                                                                                                                                                                                                         |                                                                   |\n",
      "|      3 | Wednesday, January 25  | Grabinski, Arnold, & Lovecraft (pp. 148-182)�if you're interested in the epigraph to Lovecraft's story, the full version is available here.                                                                                                                                                                                                                                                                                                                                                                       |                                                                   |\n",
      "|      3 | Friday, January 27     | Irwin, Ray, & Ray (pp. 183-222)                                                                                                                                                                                                                                                                                                                                                                                                                                                                                   |                                                                   |\n",
      "|      3 | Sunday, January 29     |                                                                                                                                                                                                                                                                                                                                                                                                                                                                                                                   | Week 3 Discussion Board Post (Section D, Section E, Section F)    |\n",
      "|      4 | Monday, January 30     | Smith, Sakutaro, & Walpole (pp. 223-247)                                                                                                                                                                                                                                                                                                                                                                                                                                                                          |                                                                   |\n",
      "|      4 | Wednesday, February 01 | Schulz, Johnson & Leiber (pp. 248-276)                                                                                                                                                                                                                                                                                                                                                                                                                                                                            |                                                                   |\n",
      "|      4 | Friday, February 03    | Carrington, Wollheim, & Bradbury (pp. 277-289)                                                                                                                                                                                                                                                                                                                                                                                                                                                                    |                                                                   |\n",
      "|      4 | Sunday, February 05    |                                                                                                                                                                                                                                                                                                                                                                                                                                                                                                                   | Week 4 Discussion Board Post (Section D, Section E, Section F)    |\n",
      "|      5 | Monday, February 06    | Sansom, Borges, & Bhely-Quenum (pp. 290-310)                                                                                                                                                                                                                                                                                                                                                                                                                                                                      |                                                                   |\n",
      "|      5 | Wednesday, February 08 | Jackson, St. Clair, & Bloch (pp. 311-332)�for those who liked Shirley Jackson's \"The Summer People,\" feel free to have a read of her best story, \"The Lottery\" here.                                                                                                                                                                                                                                                                                                                                              |                                                                   |\n",
      "|      5 | Friday, February 10    | Tutuola, Bixby, & Monterroso (pp. 333-351)                                                                                                                                                                                                                                                                                                                                                                                                                                                                        |                                                                   |\n",
      "|      5 | Sunday, February 12    |                                                                                                                                                                                                                                                                                                                                                                                                                                                                                                                   | Week 5 Discussion Board Post (Section D, Section E, Section F)    |\n",
      "|      6 | Monday, February 13    | Cortazar, Sansom, & Beaumont (pp. 352-367)                                                                                                                                                                                                                                                                                                                                                                                                                                                                        |                                                                   |\n",
      "|      6 | Wednesday, February 15 | Peake, Buzzati, & Bernanos (pp. 368-405)�if you loved the Buzzati, don't hesitate to read his \"The Falling Girl\" available here.                                                                                                                                                                                                                                                                                                                                                                                  |                                                                   |\n",
      "|      6 | Friday, February 17    | Rodoreda, Seignolle, & Wilson (pp. 406-422)                                                                                                                                                                                                                                                                                                                                                                                                                                                                       |                                                                   |\n",
      "|      6 | Sunday, February 19    |                                                                                                                                                                                                                                                                                                                                                                                                                                                                                                                   | Week 6 Discussion Board Post (Section D, Section E, Section F)    |\n",
      "|      7 | Monday, February 20    | du Maurier, Aickman, & Etchison (pp. 423-473)                                                                                                                                                                                                                                                                                                                                                                                                                                                                     |                                                                   |\n",
      "|      7 | Wednesday, February 22 | Tiptree, Jr., Basso, & Kincaid (pp. 474-520)                                                                                                                                                                                                                                                                                                                                                                                                                                                                      |                                                                   |\n",
      "|      7 | Friday, February 24    | Martin, Leman, Campbell (pp. 521-559)                                                                                                                                                                                                                                                                                                                                                                                                                                                                             |                                                                   |\n",
      "|      7 | Sunday, February 26    |                                                                                                                                                                                                                                                                                                                                                                                                                                                                                                                   | Week 7 Discussion Board Post (Section D, Section E, Section F)    |\n",
      "|      8 | Monday, February 27    | Shea, William Gibson/John Shirley, & Harrison (pp. 560-599)                                                                                                                                                                                                                                                                                                                                                                                                                                                       |                                                                   |\n",
      "|      8 | Wednesday, March 01    | Russ, Harrison, & Mitra (pp. 600-622)                                                                                                                                                                                                                                                                                                                                                                                                                                                                             |                                                                   |\n",
      "|      8 | Friday, March 03       | Wilson, Butler, & Barker (pp. 623-656)                                                                                                                                                                                                                                                                                                                                                                                                                                                                            |                                                                   |\n",
      "|      8 | Sunday, March 05       |                                                                                                                                                                                                                                                                                                                                                                                                                                                                                                                   | Week 8 Discussion Board Post (Section D, Section E, Section F)    |\n",
      "|      9 | Monday, March 06       | FINAL PROJECT PROPOSAL WORKSHOP WEEK�No assigned reading this week.                                                                                                                                                                                                                                                                                                                                                                                                                                               |                                                                   |\n",
      "|      9 | Wednesday, March 08    | FINAL PROJECT PROPOSAL WORKSHOP WEEK�No assigned reading this week.                                                                                                                                                                                                                                                                                                                                                                                                                                               |                                                                   |\n",
      "|      9 | Friday, March 10       | FINAL PROJECT PROPOSAL WORKSHOP WEEK�No assigned reading this week.                                                                                                                                                                                                                                                                                                                                                                                                                                               |                                                                   |\n",
      "|      9 | Sunday, March 12       |                                                                                                                                                                                                                                                                                                                                                                                                                                                                                                                   | Final Project Proposal Due                                        |\n",
      "|     10 | Monday, March 13       | Krohn, Kilworth, & Shepard (pp. 657-717)                                                                                                                                                                                                                                                                                                                                                                                                                                                                          |                                                                   |\n",
      "|     10 | Wednesday, March 15    | Ellison, Okri, & Hand (pp. 718-755)                                                                                                                                                                                                                                                                                                                                                                                                                                                                               |                                                                   |\n",
      "|     10 | Friday, March 17       | Oates, Brite, & Ajvaz (pp. 756-776)                                                                                                                                                                                                                                                                                                                                                                                                                                                                               |                                                                   |\n",
      "|     10 | Sunday, March 19       |                                                                                                                                                                                                                                                                                                                                                                                                                                                                                                                   | Week 10 Discussion Board Post (Section D, Section E, Section F)   |\n",
      "|     11 | Monday, March 20       | Fowler, Koja, & Murakami (pp. 777-797)                                                                                                                                                                                                                                                                                                                                                                                                                                                                            |                                                                   |\n",
      "|     11 | Wednesday, March 22    | Tuttle, Laidlaw, & Utley (pp. 798-823)                                                                                                                                                                                                                                                                                                                                                                                                                                                                            |                                                                   |\n",
      "|     11 | Friday, March 24       | Simpson, Spencer, Ford (pp. 824-843)                                                                                                                                                                                                                                                                                                                                                                                                                                                                              |                                                                   |\n",
      "|     11 | Sunday, March 26       |                                                                                                                                                                                                                                                                                                                                                                                                                                                                                                                   | Week 11 Discussion Board Post (Section D), (Section E, Section F) |\n",
      "|     12 | Monday, March 27       | King, Carter, Padawer (pp. 844-875)                                                                                                                                                                                                                                                                                                                                                                                                                                                                               |                                                                   |\n",
      "|     12 | Wednesday, March 29    | Chapman, Lee, Link (pp. 876-895)                                                                                                                                                                                                                                                                                                                                                                                                                                                                                  |                                                                   |\n",
      "|     12 | Friday, March 31       | Kiernan, Chabon, & Mieville (pp. 896-921)                                                                                                                                                                                                                                                                                                                                                                                                                                                                         |                                                                   |\n",
      "|     12 | Sunday, April 02       |                                                                                                                                                                                                                                                                                                                                                                                                                                                                                                                   | Week 12 Discussion Board Post (Section D, Section E, Section F)   |\n",
      "|     13 | Monday, April 03       | Cisco, Gaiman, VanderMeer (pp. 922-962)                                                                                                                                                                                                                                                                                                                                                                                                                                                                           |                                                                   |\n",
      "|     13 | Wednesday, April 05    | Ford, Ligotti, Evenson (pp. 963-1005)                                                                                                                                                                                                                                                                                                                                                                                                                                                                             |                                                                   |\n",
      "|     13 | Friday, April 07       | Samuels, Abraham, Lanagan (pp. 1006-1035)                                                                                                                                                                                                                                                                                                                                                                                                                                                                         |                                                                   |\n",
      "|     13 | Sunday, April 09       |                                                                                                                                                                                                                                                                                                                                                                                                                                                                                                                   | Week 13 Discussion Board Post (Section D, Section E, Section F)   |\n",
      "|     14 | Monday, April 10       | Wright, Barron, Williams (pp. 1036-1068)                                                                                                                                                                                                                                                                                                                                                                                                                                                                          |                                                                   |\n",
      "|     14 | Wednesday, April 12    | Negarestani, Morrissette, & Duffy (pp. 1069-1099)                                                                                                                                                                                                                                                                                                                                                                                                                                                                 |                                                                   |\n",
      "|     14 | Friday, April 14       | Jones & Bishop (pp. 1100-1112)                                                                                                                                                                                                                                                                                                                                                                                                                                                                                    |                                                                   |\n",
      "|     14 | Sunday, April 16       |                                                                                                                                                                                                                                                                                                                                                                                                                                                                                                                   | Week 14 Discussion Board Post (Section D, Section E, Section F)   |\n",
      "|     15 | Monday, April 17       | FINAL PROJECT WORK WEEK #1                                                                                                                                                                                                                                                                                                                                                                                                                                                                                        |                                                                   |\n",
      "|     15 | Wednesday, April 19    | FINAL PROJECT WORK WEEK #1                                                                                                                                                                                                                                                                                                                                                                                                                                                                                        |                                                                   |\n",
      "|     15 | Friday, April 21       | FINAL PROJECT WORK WEEK #1                                                                                                                                                                                                                                                                                                                                                                                                                                                                                        |                                                                   |\n",
      "|     15 | Sunday, April 23       |                                                                                                                                                                                                                                                                                                                                                                                                                                                                                                                   | Week 15 Discussion Board Post (Section D, Section E, Section F)   |\n",
      "|     16 | Monday, April 24       | FINAL PROJECT WORK WEEK #2                                                                                                                                                                                                                                                                                                                                                                                                                                                                                        |                                                                   |\n",
      "|     16 | Wednesday, April 26    | FINAL PROJECT WORK WEEK #2                                                                                                                                                                                                                                                                                                                                                                                                                                                                                        |                                                                   |\n",
      "|     16 | Friday, April 28       | FINAL PROJECT WORK WEEK #2                                                                                                                                                                                                                                                                                                                                                                                                                                                                                        |                                                                   |\n",
      "|     16 | Sunday, April 30       |                                                                                                                                                                                                                                                                                                                                                                                                                                                                                                                   |                                                                   |\n",
      "|     17 | Monday, May 01         |                                                                                                                                                                                                                                                                                                                                                                                                                                                                                                                   |                                                                   |\n",
      "|     17 | Wednesday, May 03      |                                                                                                                                                                                                                                                                                                                                                                                                                                                                                                                   |                                                                   |\n",
      "|     17 | Friday, May 05         |                                                                                                                                                                                                                                                                                                                                                                                                                                                                                                                   | FINAL PROJECTS DUE                                                |\n"
     ]
    }
   ],
   "source": [
    "from tabulate import tabulate\n",
    "print(df.to_markdown(tablefmt=\"github\"))"
   ]
  }
 ],
 "metadata": {
  "kernelspec": {
   "display_name": "base",
   "language": "python",
   "name": "python3"
  },
  "language_info": {
   "codemirror_mode": {
    "name": "ipython",
    "version": 3
   },
   "file_extension": ".py",
   "mimetype": "text/x-python",
   "name": "python",
   "nbconvert_exporter": "python",
   "pygments_lexer": "ipython3",
   "version": "3.9.12 (main, Apr  5 2022, 01:53:17) \n[Clang 12.0.0 ]"
  },
  "orig_nbformat": 4,
  "vscode": {
   "interpreter": {
    "hash": "19e56c70b3071a7c9e5271d6c05d63446be4cb37f733ae995dda36f1f67e797e"
   }
  }
 },
 "nbformat": 4,
 "nbformat_minor": 2
}
